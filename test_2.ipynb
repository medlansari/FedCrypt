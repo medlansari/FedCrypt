{
 "cells": [
  {
   "cell_type": "code",
   "execution_count": 1,
   "id": "2a445e37-b07d-4de9-8948-4c2ded7cd05a",
   "metadata": {
    "ExecuteTime": {
     "end_time": "2024-05-13T11:38:40.427684Z",
     "start_time": "2024-05-13T11:38:39.662010Z"
    }
   },
   "source": [
    "from src.model.encrypted_model import EncryptedDNN\n",
    "from src.model.dnn import DNN, Detector\n",
    "import torch\n",
    "import numpy as np\n",
    "import tenseal as ts\n",
    "import copy\n",
    "import matplotlib.pyplot as plt"
   ],
   "outputs": []
  },
  {
   "cell_type": "code",
   "execution_count": 2,
   "id": "96cc7015-bc5e-444f-8b29-e4a6ad12a4ed",
   "metadata": {
    "ExecuteTime": {
     "end_time": "2024-05-07T08:05:08.207345Z",
     "start_time": "2024-05-07T08:05:06.774371Z"
    }
   },
   "source": [
    "context = ts.context(ts.SCHEME_TYPE.CKKS, 16384, coeff_mod_bit_sizes=[60, 40, 40, 40, 40, 40, 40, 40, 40, 40])\n",
    "context.global_scale = pow(2, 40)\n",
    "context.generate_galois_keys()"
   ],
   "outputs": []
  },
  {
   "cell_type": "code",
   "execution_count": 3,
   "id": "9c97a3e6-b8ae-4219-b264-22e01051f02e",
   "metadata": {
    "ExecuteTime": {
     "end_time": "2024-05-07T08:05:08.659994Z",
     "start_time": "2024-05-07T08:05:08.208187Z"
    }
   },
   "source": [
    "# parameters\n",
    "poly_mod_degree = 8192\n",
    "coeff_mod_bit_sizes = [40, 21, 21, 21, 21, 21, 21, 40]\n",
    "# create TenSEALContext\n",
    "ctx_training = ts.context(ts.SCHEME_TYPE.CKKS, poly_mod_degree, -1, coeff_mod_bit_sizes)\n",
    "ctx_training.global_scale = 2 ** 21\n",
    "ctx_training.generate_galois_keys()\n"
   ],
   "outputs": []
  },
  {
   "cell_type": "code",
   "execution_count": 4,
   "id": "7e0ec294-6833-4348-a899-1336e5f719e4",
   "metadata": {
    "ExecuteTime": {
     "end_time": "2024-05-07T08:05:08.687422Z",
     "start_time": "2024-05-07T08:05:08.660744Z"
    }
   },
   "source": [
    "x = torch.randn(64,1) \n",
    "x_enc = ts.ckks_tensor(ctx_training, x.tolist())\n",
    "\n",
    "y_ground = torch.ones(2,1) \n",
    "y_ground[0] = 0\n",
    "y_ground_enc =  ts.ckks_tensor(ctx_training, y_ground.tolist())"
   ],
   "outputs": []
  },
  {
   "cell_type": "code",
   "execution_count": 5,
   "id": "db07d5bc-dde9-479f-a755-c84bbd84103d",
   "metadata": {
    "ExecuteTime": {
     "end_time": "2024-05-07T08:05:08.964573Z",
     "start_time": "2024-05-07T08:05:08.688258Z"
    }
   },
   "source": [
    "model_real = DNN(64, 2, True)\n",
    "detector_real = Detector(2)\n",
    "model_enc = EncryptedDNN(model_real, detector_real, 2, ctx_training)\n",
    "model_enc.encrypt(ctx_training)"
   ],
   "outputs": []
  },
  {
   "cell_type": "code",
   "execution_count": 6,
   "id": "52725636-55a4-4bbb-96dd-c10f647a09df",
   "metadata": {
    "ExecuteTime": {
     "end_time": "2024-05-07T08:05:08.971022Z",
     "start_time": "2024-05-07T08:05:08.965548Z"
    }
   },
   "source": [
    "criterion = torch.nn.MSELoss(reduction=\"mean\")"
   ],
   "outputs": []
  },
  {
   "cell_type": "code",
   "execution_count": 7,
   "id": "b2edc09e-3882-4773-a12c-17fa0350825f",
   "metadata": {},
   "source": [
    "model_real.fc2.weight.shape"
   ],
   "outputs": []
  },
  {
   "cell_type": "markdown",
   "id": "57c31fbc-3caf-413a-aa6a-a03c0f5d82cb",
   "metadata": {},
   "source": [
    "# Parameters switch"
   ]
  },
  {
   "cell_type": "code",
   "execution_count": 7,
   "id": "579c7fca-9166-4b87-9ecd-b665c687b5ae",
   "metadata": {
    "ExecuteTime": {
     "end_time": "2024-05-07T08:02:30.341385Z",
     "start_time": "2024-05-07T08:02:29.090916Z"
    }
   },
   "source": [
    "model_enc.target_w = model_real.fc1.weight.data.detach().cpu().tolist()\n",
    "model_enc.target_b = model_real.fc1.bias.data.detach().cpu().tolist()\n",
    "\n",
    "model_enc.detect_weight = detector_real.fc1.weight.data.detach().cpu().tolist()\n",
    "model_enc.detect_bias = detector_real.fc1.bias.data.detach().cpu().tolist()\n",
    "\n",
    "model_enc.encrypt(ctx_training)\n",
    "\n",
    "model_enc.decrypt()\n",
    "\n",
    "model_real.fc1.weight = torch.nn.parameter.Parameter(\n",
    "            torch.tensor(model_enc.fc1_weight, device=\"cpu\"))\n",
    "model_real.fc1.bias = torch.nn.parameter.Parameter(torch.tensor(model_enc.fc1_bias, device=\"cpu\"))\n",
    "detector_real.fc1.weight = torch.nn.parameter.Parameter(\n",
    "    torch.tensor(model_enc.detect_weight, device=\"cpu\"))\n",
    "detector_real.fc1.bias = torch.nn.parameter.Parameter(\n",
    "    torch.tensor(model_enc.detect_bias, device=\"cpu\"))"
   ],
   "outputs": []
  },
  {
   "cell_type": "markdown",
   "id": "29375a02-1674-4fa4-94d8-5e53aec40dbf",
   "metadata": {},
   "source": [
    "# Forward"
   ]
  },
  {
   "cell_type": "code",
   "execution_count": 8,
   "id": "c4b8ed13-15a7-40e8-a179-3d9cd619d43b",
   "metadata": {
    "ExecuteTime": {
     "end_time": "2024-05-07T08:05:12.042244Z",
     "start_time": "2024-05-07T08:05:12.039124Z"
    }
   },
   "source": [
    "y_pred = detector_real(model_real(x.T, True))"
   ],
   "outputs": []
  },
  {
   "cell_type": "code",
   "execution_count": 9,
   "id": "e1681816-9905-4fa5-a404-7b12fb85d032",
   "metadata": {
    "ExecuteTime": {
     "end_time": "2024-05-07T08:05:13.135997Z",
     "start_time": "2024-05-07T08:05:12.333297Z"
    }
   },
   "source": [
    "y_pred_enc = model_enc.forward_watermarking(x_enc)"
   ],
   "outputs": []
  },
  {
   "cell_type": "code",
   "execution_count": 10,
   "id": "4f8d80ab-b561-4622-81dc-23f360f44d52",
   "metadata": {
    "ExecuteTime": {
     "end_time": "2024-05-07T08:05:13.144721Z",
     "start_time": "2024-05-07T08:05:13.136746Z"
    }
   },
   "source": [
    "y_pred.argmax().item()"
   ],
   "outputs": []
  },
  {
   "cell_type": "code",
   "execution_count": 11,
   "id": "6bf0f794-4d27-48da-aa5c-a944ca7faf20",
   "metadata": {
    "ExecuteTime": {
     "end_time": "2024-05-07T08:05:13.201337Z",
     "start_time": "2024-05-07T08:05:13.196390Z"
    }
   },
   "source": [
    "np.array(y_pred_enc.decrypt().tolist()).argmax()"
   ],
   "outputs": []
  },
  {
   "cell_type": "markdown",
   "id": "48d353b1-8a7e-4beb-a1e5-0019fef68419",
   "metadata": {},
   "source": [
    "# Backward - fc1"
   ]
  },
  {
   "cell_type": "code",
   "execution_count": 12,
   "id": "b3ad9003-7d18-48a8-9beb-eb4316234b8a",
   "metadata": {
    "ExecuteTime": {
     "end_time": "2024-05-07T08:05:15.600610Z",
     "start_time": "2024-05-07T08:05:15.595443Z"
    }
   },
   "source": [
    "loss = criterion(y_pred, y_ground.T)\n",
    "loss.backward(retain_graph=True)"
   ],
   "outputs": []
  },
  {
   "cell_type": "code",
   "execution_count": 13,
   "id": "821bea04-8640-4d5f-9bc8-4ff8139da0ba",
   "metadata": {
    "ExecuteTime": {
     "end_time": "2024-05-07T08:05:15.908008Z",
     "start_time": "2024-05-07T08:05:15.905814Z"
    }
   },
   "source": [
    "grad = model_real.fc1.weight.grad \n",
    "grad = grad + abs(grad.min()) \n",
    "grad = grad / grad.max()"
   ],
   "outputs": []
  },
  {
   "cell_type": "code",
   "execution_count": 14,
   "id": "acb9b40b-828b-47e4-9134-1aad8ee142b7",
   "metadata": {
    "ExecuteTime": {
     "end_time": "2024-05-07T08:05:16.252894Z",
     "start_time": "2024-05-07T08:05:16.169685Z"
    }
   },
   "source": [
    "plt.plot(grad[14,:])"
   ],
   "outputs": []
  },
  {
   "cell_type": "code",
   "execution_count": 24,
   "id": "c72f951b-c6a0-4da0-a7bd-1cc8ec8b88fb",
   "metadata": {
    "ExecuteTime": {
     "end_time": "2024-05-07T08:05:19.422095Z",
     "start_time": "2024-05-07T08:05:16.811626Z"
    }
   },
   "source": [
    "model_enc.refresh_all_parameters()\n",
    "x_enc = model_enc.refresh(x_enc)\n",
    "y_pred_enc = model_enc.refresh(y_pred_enc)\n",
    "y_ground_enc = model_enc.refresh(y_ground_enc)\n",
    "grad_enc = torch.tensor(model_enc.backward_fc1(x_enc, y_pred_enc, y_ground_enc)[0].decrypt().tolist())\n",
    "grad_enc = grad_enc + abs(grad_enc.min()) \n",
    "grad_enc = grad_enc / grad_enc.max()\n",
    "plt.plot(grad_enc[14,:])"
   ],
   "outputs": []
  },
  {
   "cell_type": "code",
   "execution_count": 25,
   "id": "f5548791-dce8-41f6-aeac-376af9ebe8db",
   "metadata": {
    "ExecuteTime": {
     "end_time": "2024-05-07T08:05:19.486837Z",
     "start_time": "2024-05-07T08:05:19.422981Z"
    }
   },
   "source": [
    "i = 14\n",
    "plt.plot(grad[i,:], label=\"real\")\n",
    "plt.plot(grad_enc[i,:], label=\"encrypted\")\n",
    "plt.legend()\n",
    "plt.ylim(0,1)\n",
    "plt.plot()"
   ],
   "outputs": []
  },
  {
   "cell_type": "code",
   "execution_count": 26,
   "id": "db4ff5e8-4e6d-431b-9472-59aa2f3e3b1b",
   "metadata": {
    "ExecuteTime": {
     "end_time": "2024-05-07T08:05:21.865146Z",
     "start_time": "2024-05-07T08:05:21.861723Z"
    }
   },
   "source": [
    "(abs(grad-grad_enc)).max()"
   ],
   "outputs": []
  },
  {
   "cell_type": "markdown",
   "id": "6e59b7d0-85b7-44c6-a39b-35080c695088",
   "metadata": {},
   "source": [
    "# Backward - detect"
   ]
  },
  {
   "cell_type": "code",
   "execution_count": 27,
   "id": "c6be314a-d09c-403b-9ad5-20fd0e7f359e",
   "metadata": {
    "ExecuteTime": {
     "end_time": "2024-05-07T08:05:22.793989Z",
     "start_time": "2024-05-07T08:05:22.731388Z"
    }
   },
   "source": [
    "plt.plot(detector_real.fc2.bias.grad.numpy()[:])"
   ],
   "outputs": []
  },
  {
   "cell_type": "code",
   "execution_count": 28,
   "id": "a7bb3a7d-b18b-4ed8-95c7-7e0ca95aa7b6",
   "metadata": {
    "ExecuteTime": {
     "end_time": "2024-05-07T08:05:24.565484Z",
     "start_time": "2024-05-07T08:05:23.481795Z"
    }
   },
   "source": [
    "x_enc = model_enc.refresh(x_enc)\n",
    "y_pred_enc = model_enc.refresh(y_pred_enc)\n",
    "y_ground_enc = model_enc.refresh(y_ground_enc)\n",
    "plt.plot(np.array(model_enc.backward(x_enc, y_pred_enc, y_ground_enc)[3].decrypt().tolist())[:])"
   ],
   "outputs": []
  },
  {
   "cell_type": "code",
   "execution_count": 29,
   "id": "4611edd7-a1de-4ea6-815b-bd100978ea93",
   "metadata": {
    "ExecuteTime": {
     "end_time": "2024-05-07T08:05:27.894142Z",
     "start_time": "2024-05-07T08:05:26.859789Z"
    }
   },
   "source": [
    "grad_detect = detector_real.fc1.weight.grad\n",
    "grad_detect = grad_detect + abs(grad_detect.min())\n",
    "grad_detect = grad_detect / grad_detect.max()\n",
    "\n",
    "grad_detect_enc = torch.tensor(model_enc.backward_detect(x_enc, y_pred_enc, y_ground_enc)[0].decrypt().tolist())\n",
    "grad_detect_enc = grad_detect_enc + abs(grad_detect_enc.min())\n",
    "grad_detect_enc = grad_detect_enc / grad_detect_enc.max()\n",
    "\n",
    "diff_detect = abs(grad_detect - grad_detect_enc).max()"
   ],
   "outputs": []
  },
  {
   "cell_type": "code",
   "execution_count": 30,
   "id": "b946135a-fb34-42f3-9f5a-69c0760fb3b0",
   "metadata": {
    "ExecuteTime": {
     "end_time": "2024-05-07T08:05:27.952612Z",
     "start_time": "2024-05-07T08:05:27.895080Z"
    }
   },
   "source": [
    "i = 0\n",
    "plt.plot(grad_detect[i,:])\n",
    "plt.plot(grad_detect_enc[i,:])"
   ],
   "outputs": []
  },
  {
   "cell_type": "code",
   "execution_count": 31,
   "id": "f5a2f338-064e-41a1-ac25-75aa877738f7",
   "metadata": {
    "ExecuteTime": {
     "end_time": "2024-05-07T08:05:31.797320Z",
     "start_time": "2024-05-07T08:05:31.794204Z"
    }
   },
   "source": [
    "(grad_detect-grad_detect_enc).max()"
   ],
   "outputs": []
  },
  {
   "cell_type": "code",
   "execution_count": 32,
   "id": "776d6df7-673e-4f43-861e-264d4046161f",
   "metadata": {
    "ExecuteTime": {
     "end_time": "2024-05-07T08:05:32.639894Z",
     "start_time": "2024-05-07T08:05:32.636767Z"
    }
   },
   "source": [
    "grad_detect"
   ],
   "outputs": []
  },
  {
   "cell_type": "markdown",
   "id": "6f2d19fa-0d04-4cee-be91-f7dfbea3a6af",
   "metadata": {},
   "source": [
    "# Bias"
   ]
  },
  {
   "cell_type": "code",
   "execution_count": 33,
   "id": "3f8888d0-12bd-442d-82f5-e4aaba1fdd5f",
   "metadata": {
    "ExecuteTime": {
     "end_time": "2024-05-06T15:43:01.452563Z",
     "start_time": "2024-05-06T15:43:01.450402Z"
    }
   },
   "source": [
    "grad = model_real.fc1.bias.grad \n",
    "grad = grad + abs(grad.min()) \n",
    "grad = grad / grad.max()"
   ],
   "outputs": []
  },
  {
   "cell_type": "code",
   "execution_count": 34,
   "id": "0bb547b8-a997-49ed-bb55-e9eba2c33cd0",
   "metadata": {
    "ExecuteTime": {
     "end_time": "2024-05-06T15:43:01.963994Z",
     "start_time": "2024-05-06T15:43:01.879463Z"
    }
   },
   "source": [
    "plt.plot(grad)"
   ],
   "outputs": []
  },
  {
   "cell_type": "code",
   "execution_count": 35,
   "id": "516a4e23-90f6-48ee-b66f-8db4cfea398d",
   "metadata": {
    "ExecuteTime": {
     "end_time": "2024-05-06T15:43:05.144235Z",
     "start_time": "2024-05-06T15:43:02.453781Z"
    }
   },
   "source": [
    "grad_enc = torch.tensor(model_enc.backward_fc1(x_enc, y_pred_enc, y_ground_enc)[1].decrypt().tolist())\n",
    "grad_enc = grad_enc + abs(grad_enc.min()) \n",
    "grad_enc = grad_enc / grad_enc.max()\n",
    "plt.plot(grad_enc[0])"
   ],
   "outputs": []
  },
  {
   "cell_type": "code",
   "execution_count": 36,
   "id": "c34160af-aceb-4918-8cf4-4a2d0818e9f8",
   "metadata": {
    "ExecuteTime": {
     "end_time": "2024-05-06T15:43:06.339304Z",
     "start_time": "2024-05-06T15:43:05.153724Z"
    }
   },
   "source": [
    "grad = detector_real.fc1.bias.grad\n",
    "grad_enc = torch.tensor(model_enc.backward_detect(x_enc, y_pred_enc, y_ground_enc)[1].decrypt().tolist())\n",
    "plt.plot(grad)\n",
    "plt.plot(grad_enc)"
   ],
   "outputs": []
  },
  {
   "cell_type": "code",
   "execution_count": 37,
   "id": "86162272-35a4-43d8-8f9b-2d354a1c1b82",
   "metadata": {
    "ExecuteTime": {
     "end_time": "2024-05-06T15:43:11.948780Z",
     "start_time": "2024-05-06T15:43:11.945844Z"
    }
   },
   "source": [
    "grad"
   ],
   "outputs": []
  },
  {
   "cell_type": "code",
   "execution_count": 38,
   "id": "2ea95415-3cd8-42dd-a76b-8a5282a65bcf",
   "metadata": {
    "ExecuteTime": {
     "end_time": "2024-05-06T15:43:12.279882Z",
     "start_time": "2024-05-06T15:43:12.276261Z"
    }
   },
   "source": [
    "grad_enc"
   ],
   "outputs": []
  },
  {
   "cell_type": "markdown",
   "id": "89de3b19-e9b4-43d3-8434-235ea089d833",
   "metadata": {},
   "source": [
    "# update"
   ]
  },
  {
   "cell_type": "code",
   "execution_count": 29,
   "id": "87f77b07-20ae-4ae2-97f2-8973356b8f7c",
   "metadata": {},
   "source": [
    "model_enc.update_parameters()"
   ],
   "outputs": []
  },
  {
   "cell_type": "code",
   "execution_count": null,
   "id": "a58b6abc-4f56-4d95-a994-38517bf55efa",
   "metadata": {},
   "source": [],
   "outputs": []
  }
 ],
 "metadata": {
  "kernelspec": {
   "display_name": "Python 3 (ipykernel)",
   "language": "python",
   "name": "python3"
  },
  "language_info": {
   "codemirror_mode": {
    "name": "ipython",
    "version": 3
   },
   "file_extension": ".py",
   "mimetype": "text/x-python",
   "name": "python",
   "nbconvert_exporter": "python",
   "pygments_lexer": "ipython3",
   "version": "3.10.12"
  }
 },
 "nbformat": 4,
 "nbformat_minor": 5
}

{
 "cells": [
  {
   "cell_type": "code",
   "execution_count": 1,
   "id": "initial_id",
   "metadata": {
    "ExecuteTime": {
     "end_time": "2024-06-03T11:20:27.284398Z",
     "start_time": "2024-06-03T11:20:27.281602Z"
    }
   },
   "outputs": [],
   "source": [
    "import torch\n",
    "import os\n",
    "import numpy as np\n",
    "import matplotlib.pyplot as plt\n",
    "# plt.rcParams[\"font.family\"] = \"Times New Roman\""
   ]
  },
  {
   "cell_type": "code",
   "execution_count": 2,
   "id": "2696d972f1b5be77",
   "metadata": {
    "ExecuteTime": {
     "end_time": "2024-05-30T15:04:36.778375Z",
     "start_time": "2024-05-30T15:04:36.776124Z"
    }
   },
   "outputs": [],
   "source": [
    "path = \"outputs_paper/\""
   ]
  },
  {
   "cell_type": "code",
   "execution_count": 3,
   "id": "6976671c5b465275",
   "metadata": {
    "ExecuteTime": {
     "end_time": "2024-05-24T13:47:26.568428Z",
     "start_time": "2024-05-24T13:47:26.565760Z"
    }
   },
   "outputs": [],
   "source": [
    "files = []\n",
    "\n",
    "# Parcours tous les fichiers dans le répertoire\n",
    "for file in os.listdir(path):\n",
    "    # Vérifie si le nom du fichier commence par \"overwriting\"\n",
    "    if file.startswith(\"Overwritting\"):\n",
    "        # Ajoute le nom du fichier à la liste\n",
    "        files.append(file)"
   ]
  },
  {
   "cell_type": "code",
   "execution_count": 4,
   "id": "c628faaae75e5b93",
   "metadata": {
    "ExecuteTime": {
     "end_time": "2024-05-24T13:47:29.425032Z",
     "start_time": "2024-05-24T13:47:29.422096Z"
    }
   },
   "outputs": [],
   "source": [
    "accuracy = np.zeros((5,100))\n",
    "owner = np.zeros((5,100))\n",
    "attacker = np.zeros((5,100))\n",
    "for e, file in enumerate(files):\n",
    "    a = np.load(path + file)\n",
    "    accuracy[e] = a['arr_0']\n",
    "    owner[e] = a['arr_1']\n",
    "    attacker[e] = a['arr_2']"
   ]
  },
  {
   "cell_type": "code",
   "execution_count": 5,
   "id": "bfd6ed40a60f64fa",
   "metadata": {
    "ExecuteTime": {
     "end_time": "2024-05-24T13:47:30.649039Z",
     "start_time": "2024-05-24T13:47:30.646299Z"
    }
   },
   "outputs": [],
   "source": [
    "accuracy_mean = np.mean(accuracy, axis=0)\n",
    "accuracy_std = np.std(accuracy, axis=0)\n",
    "\n",
    "owner_mean = np.mean(owner, axis=0)\n",
    "owner_std = np.std(owner, axis=0)\n",
    "\n",
    "attacker_mean = np.mean(attacker, axis=0)\n",
    "attacker_std = np.std(attacker, axis=0)"
   ]
  },
  {
   "cell_type": "code",
   "execution_count": 6,
   "id": "451c8357e957d56d",
   "metadata": {
    "ExecuteTime": {
     "end_time": "2024-05-24T13:47:31.124211Z",
     "start_time": "2024-05-24T13:47:31.121492Z"
    }
   },
   "outputs": [
    {
     "name": "stdout",
     "output_type": "stream",
     "text": [
      "0.0 0.0\n",
      "0.0 0.0\n",
      "0.0 0.0\n",
      "0.0 0.0\n",
      "0.0 0.0\n"
     ]
    }
   ],
   "source": [
    "a = [0, 24, 49, 74, 99]\n",
    "for i in a:\n",
    "    print(attacker_mean[i], accuracy_std[i])"
   ]
  },
  {
   "cell_type": "code",
   "execution_count": null,
   "id": "4cb2949b59c1d1c0",
   "metadata": {
    "ExecuteTime": {
     "end_time": "2024-04-18T09:08:06.185675Z",
     "start_time": "2024-04-18T09:08:06.183844Z"
    }
   },
   "outputs": [],
   "source": []
  },
  {
   "cell_type": "code",
   "execution_count": 7,
   "id": "65f87fb5d187b8e8",
   "metadata": {
    "ExecuteTime": {
     "end_time": "2024-04-18T09:08:06.498566Z",
     "start_time": "2024-04-18T09:08:06.495967Z"
    }
   },
   "outputs": [],
   "source": [
    "files = []\n",
    "\n",
    "# Parcours tous les fichiers dans le répertoire\n",
    "for file in os.listdir(path):\n",
    "    # Vérifie si le nom du fichier commence par \"overwriting\"\n",
    "    if file.startswith(\"pruning1\"):\n",
    "        # Ajoute le nom du fichier à la liste\n",
    "        files.append(file)"
   ]
  },
  {
   "cell_type": "code",
   "execution_count": 8,
   "id": "42a3cbb5d5d5e642",
   "metadata": {
    "ExecuteTime": {
     "end_time": "2024-04-18T09:08:06.812036Z",
     "start_time": "2024-04-18T09:08:06.808495Z"
    }
   },
   "outputs": [],
   "source": [
    "accuracy = np.zeros((5,11))\n",
    "wdr = np.zeros((5,11))\n",
    "for e, file in enumerate(files):\n",
    "    a = np.load(path + file)\n",
    "    accuracy[e] = a['arr_1']\n",
    "    wdr[e] = a['arr_3']"
   ]
  },
  {
   "cell_type": "code",
   "execution_count": 9,
   "id": "485aff70e5e3510f",
   "metadata": {
    "ExecuteTime": {
     "end_time": "2024-04-18T09:08:07.098500Z",
     "start_time": "2024-04-18T09:08:07.095805Z"
    }
   },
   "outputs": [],
   "source": [
    "accuracy_mean = np.mean(accuracy, axis=0)\n",
    "accuracy_std = np.std(accuracy, axis=0)\n",
    "\n",
    "wdr_mean = np.mean(wdr, axis=0)\n",
    "wdr_std = np.std(wdr, axis=0)"
   ]
  },
  {
   "cell_type": "code",
   "execution_count": 10,
   "id": "fc21c2c7e8a0484f",
   "metadata": {
    "ExecuteTime": {
     "end_time": "2024-04-18T09:08:07.388409Z",
     "start_time": "2024-04-18T09:08:07.386010Z"
    }
   },
   "outputs": [],
   "source": [
    "pruning_rates = np.arange(0, 1.1, 0.1)"
   ]
  },
  {
   "cell_type": "code",
   "execution_count": 11,
   "id": "2ec222f7ccdf613e",
   "metadata": {
    "ExecuteTime": {
     "end_time": "2024-04-18T09:08:07.807198Z",
     "start_time": "2024-04-18T09:08:07.680820Z"
    }
   },
   "outputs": [],
   "source": [
    "plt.figure(figsize=(5, 4), dpi=400)\n",
    "pruning_rates = np.array(pruning_rates)\n",
    "plt.plot(pruning_rates, accuracy_mean, c=\"blue\", label=\"Test\")\n",
    "plt.fill_between(pruning_rates, accuracy_mean-accuracy_std, accuracy_mean+accuracy_std, color=\"blue\", alpha=0.25)\n",
    "plt.plot(pruning_rates, wdr_mean, c=\"black\", label=\"Dynamic Watermark\", marker=\"v\",\n",
    "         markersize=3,\n",
    "         linestyle=\"dashed\")\n",
    "plt.fill_between(pruning_rates, wdr_mean-wdr_std, wdr_mean+wdr_std, color=\"black\" , alpha=0.25)\n",
    "plt.plot(pruning_rates, 0.47*np.ones(len(pruning_rates)), c=\"red\", label=\"$\\delta$\", linestyle='dashed')\n",
    "plt.xlabel(\"Pruning rate\")\n",
    "plt.ylabel(\"Accuracy\")\n",
    "plt.xlim(0, 1)\n",
    "plt.ylim(0 - 0.1, 1 + 0.1)\n",
    "plt.xticks(pruning_rates)\n",
    "plt.yticks(pruning_rates)\n",
    "plt.grid(True)\n",
    "plt.legend()\n",
    "plt.savefig(\n",
    "    path\n",
    "    + \"pruning.pdf\"\n",
    ")\n",
    "plt.close()"
   ]
  },
  {
   "cell_type": "code",
   "execution_count": 113,
   "id": "dcb6b9b6016c0e74",
   "metadata": {
    "ExecuteTime": {
     "end_time": "2024-04-18T09:20:38.151754Z",
     "start_time": "2024-04-18T09:20:38.149235Z"
    }
   },
   "outputs": [
    {
     "data": {
      "text/plain": [
       "0.23819999999999997"
      ]
     },
     "execution_count": 113,
     "metadata": {},
     "output_type": "execute_result"
    }
   ],
   "source": [
    "accuracy_mean[0]-accuracy_mean[8]"
   ]
  },
  {
   "cell_type": "code",
   "execution_count": null,
   "id": "978e736783461220",
   "metadata": {},
   "outputs": [],
   "source": []
  },
  {
   "cell_type": "code",
   "execution_count": 9,
   "id": "e8ed337ff38ea705",
   "metadata": {
    "ExecuteTime": {
     "end_time": "2024-05-30T15:05:02.060612Z",
     "start_time": "2024-05-30T15:05:02.057975Z"
    }
   },
   "outputs": [],
   "source": [
    "files = []\n",
    "\n",
    "# Parcours tous les fichiers dans le répertoire\n",
    "for file in os.listdir(path):\n",
    "    # Vérifie si le nom du fichier commence par \"overwriting\"\n",
    "    if file.startswith(\"resnet\"):\n",
    "        # Ajoute le nom du fichier à la liste\n",
    "        files.append(file)"
   ]
  },
  {
   "cell_type": "code",
   "execution_count": 10,
   "id": "51cf0a3fd814615",
   "metadata": {
    "ExecuteTime": {
     "end_time": "2024-05-30T15:05:02.370260Z",
     "start_time": "2024-05-30T15:05:02.367459Z"
    }
   },
   "outputs": [
    {
     "data": {
      "text/plain": [
       "['resnet_outputsfine-tuning80_5_FHE_1717167491.70012471.npz',\n",
       " 'resnet_outputsfine-tuning80_5_FHE_1717167491.70012474.npz',\n",
       " 'resnet_outputsfine-tuning80_5_FHE_1717167491.70012470.npz',\n",
       " 'resnet_outputsfine-tuning80_5_FHE_1717167491.70012472.npz',\n",
       " 'resnet_outputsfine-tuning80_5_FHE_1717167491.70012473.npz']"
      ]
     },
     "execution_count": 10,
     "metadata": {},
     "output_type": "execute_result"
    }
   ],
   "source": [
    "files"
   ]
  },
  {
   "cell_type": "code",
   "execution_count": 11,
   "id": "51940fe4c47a9e0e",
   "metadata": {
    "ExecuteTime": {
     "end_time": "2024-05-30T15:05:03.361652Z",
     "start_time": "2024-05-30T15:05:03.358277Z"
    }
   },
   "outputs": [],
   "source": [
    "accuracy = np.zeros((len(files),101))\n",
    "wdr = np.zeros((len(files),101))\n",
    "epoch = np.zeros((len(files)))\n",
    "for e, file in enumerate(files):\n",
    "    a = np.load(path + file)\n",
    "    accuracy[e] = a['arr_0']\n",
    "    wdr[e] = a['arr_1']"
   ]
  },
  {
   "cell_type": "code",
   "execution_count": 12,
   "id": "8e7c14e950f010e3",
   "metadata": {
    "ExecuteTime": {
     "end_time": "2024-05-30T15:05:04.564593Z",
     "start_time": "2024-05-30T15:05:04.561496Z"
    }
   },
   "outputs": [],
   "source": [
    "accuracy_mean = np.mean(accuracy, axis=0)\n",
    "accuracy_std = np.std(accuracy, axis=0)\n",
    "\n",
    "wdr_mean = np.mean(wdr, axis=0)\n",
    "wdr_std = np.std(wdr, axis=0)"
   ]
  },
  {
   "cell_type": "code",
   "execution_count": 13,
   "id": "7a8491998a3bf8ca",
   "metadata": {
    "ExecuteTime": {
     "end_time": "2024-05-30T15:04:46.326597Z",
     "start_time": "2024-05-30T15:04:46.323438Z"
    }
   },
   "outputs": [
    {
     "name": "stdout",
     "output_type": "stream",
     "text": [
      "0.875 0.0 1.0 0.0\n",
      "0.8718 0.0026381811916545857 1.0 0.0\n",
      "0.8708 0.0029933259094191557 1.0 0.0\n",
      "0.8698 0.003655133376499416 1.0 0.0\n",
      "0.8704000000000001 0.007200000000000006 1.0 0.0\n"
     ]
    }
   ],
   "source": [
    "print(accuracy_mean[0], accuracy_std[0], wdr_mean[0], wdr_std[0])\n",
    "print(accuracy_mean[6], accuracy_std[6], wdr_mean[6], wdr_std[6])\n",
    "print(accuracy_mean[11], accuracy_std[11], wdr_mean[11], wdr_std[11])\n",
    "print(accuracy_mean[16], accuracy_std[16], wdr_mean[16], wdr_std[16])\n",
    "print(accuracy_mean[21], accuracy_std[21], wdr_mean[21], wdr_std[21])"
   ]
  },
  {
   "cell_type": "code",
   "execution_count": 14,
   "id": "50857300747dbfe2",
   "metadata": {
    "ExecuteTime": {
     "end_time": "2024-05-29T07:28:21.425296Z",
     "start_time": "2024-05-29T07:28:21.343078Z"
    }
   },
   "outputs": [],
   "source": [
    "fig = plt.figure(figsize=(4, 3), dpi=400)\n",
    "plt.axes(facecolor='#f7f7f7')\n",
    "epoch = np.arange(0, 101, 1) \n",
    "plt.plot(epoch, accuracy_mean, c=\"blue\", label=\"Test Set\")\n",
    "plt.fill_between(epoch, accuracy_mean-accuracy_std, accuracy_mean+accuracy_std, color=\"blue\", alpha=0.25)\n",
    "\n",
    "plt.plot(epoch, wdr_mean, c=\"green\", label=\"Watermark\",\n",
    "         markersize=5)\n",
    "plt.fill_between(epoch, wdr_mean-wdr_std, wdr_mean+wdr_std, color=\"green\" , alpha=0.25)\n",
    "\n",
    "plt.plot(epoch, 0.47*np.ones(len(epoch)), c=\"black\", label=\"Threshold\", linestyle='dashed')\n",
    "plt.xlabel(\"Epoch\")\n",
    "plt.ylabel(\"Accuracy\")\n",
    "plt.xlim(0, 100)\n",
    "plt.ylim(0 - 0.1, 1 + 0.1)\n",
    "plt.xticks(np.arange(0, len(accuracy[0]), 20))\n",
    "plt.yticks(np.arange(0,1.01,0.2))\n",
    "plt.grid(True)\n",
    "plt.legend()\n",
    "plt.tight_layout()\n",
    "plt.savefig(\n",
    "    path\n",
    "    + \"fine-tuning.pdf\"\n",
    ")\n",
    "plt.close()"
   ]
  },
  {
   "cell_type": "code",
   "execution_count": null,
   "id": "dbf66c46-745f-4370-a86d-503def3f5e6f",
   "metadata": {},
   "outputs": [],
   "source": []
  },
  {
   "cell_type": "code",
   "execution_count": 3,
   "id": "51533586-4709-4f0d-a7a5-291337def284",
   "metadata": {},
   "outputs": [
    {
     "name": "stdout",
     "output_type": "stream",
     "text": [
      "['save_FHE_overwriting_80_5_FHE_1717167491.7001247_1717423022.9416003.npz', 'save_FHE_overwriting_80_5_FHE_1717167491.7001247_1717425459.7519917.npz', 'save_FHE_overwriting_80_5_FHE_1717167491.7001247_1717427913.951489.npz', 'save_FHE_overwriting_80_5_FHE_1717167491.7001247_1717418281.87008.npz', 'save_FHE_overwriting_80_5_FHE_1717167491.7001247_1717420667.591887.npz']\n",
      "5\n"
     ]
    }
   ],
   "source": [
    "files = []\n",
    "\n",
    "# Parcours tous les fichiers dans le répertoire\n",
    "for file in os.listdir(path):\n",
    "    # Vérifie si le nom du fichier commence par \"overwriting\"\n",
    "    if file.startswith(\"save_FHE_overwriting_80_5_FHE_1717167491.7001247_17174\"):\n",
    "        # Ajoute le nom du fichier à la liste\n",
    "        files.append(file)\n",
    "print(files)\n",
    "print(len(files))"
   ]
  },
  {
   "cell_type": "code",
   "execution_count": 4,
   "id": "4674e0ec13bd6a0c",
   "metadata": {
    "ExecuteTime": {
     "end_time": "2024-05-30T15:05:08.834396Z",
     "start_time": "2024-05-30T15:05:08.830065Z"
    }
   },
   "outputs": [],
   "source": [
    "accuracy = np.zeros((len(files),101))\n",
    "wdr_org = np.zeros((len(files),101))\n",
    "wdr_new = np.zeros((len(files),101))\n",
    "epoch = np.zeros((len(files)))\n",
    "for e, file in enumerate(files):\n",
    "    a = np.load(path + file)\n",
    "    accuracy[e] = a['arr_0']\n",
    "    wdr_org[e] = a['arr_1']\n",
    "    wdr_new[e] = a['arr_2']"
   ]
  },
  {
   "cell_type": "code",
   "execution_count": 5,
   "id": "76896660-c4bb-41ff-abf9-fa721712ccc6",
   "metadata": {
    "ExecuteTime": {
     "end_time": "2024-05-30T15:05:09.057222Z",
     "start_time": "2024-05-30T15:05:09.054432Z"
    }
   },
   "outputs": [],
   "source": [
    "accuracy_mean = np.mean(accuracy, axis=0)\n",
    "accuracy_std = np.std(accuracy, axis=0)\n",
    "\n",
    "wdr_org_mean = np.mean(wdr_org, axis=0)\n",
    "wdr_org_std = np.std(wdr_org, axis=0)\n",
    "\n",
    "wdr_new_mean = np.mean(wdr_new, axis=0)\n",
    "wdr_new_std = np.std(wdr_new, axis=0)"
   ]
  },
  {
   "cell_type": "code",
   "execution_count": 6,
   "id": "8fc385b6e1a92238",
   "metadata": {
    "ExecuteTime": {
     "end_time": "2024-05-30T15:05:09.459136Z",
     "start_time": "2024-05-30T15:05:09.294665Z"
    }
   },
   "outputs": [],
   "source": [
    "# %%\n",
    "fig = plt.figure(figsize=(4, 3), dpi=400)\n",
    "plt.axes(facecolor='#f7f7f7')\n",
    "epoch = np.arange(0, len(accuracy[0]), 1)\n",
    "plt.plot(epoch, accuracy_mean, c=\"blue\", label=\"Test Set\")\n",
    "plt.fill_between(epoch, accuracy_mean - accuracy_std, accuracy_mean + accuracy_std, color=\"blue\", alpha=0.25)\n",
    "\n",
    "plt.plot(epoch, wdr_org_mean, c=\"green\", label=\"Original Watermark\",\n",
    "         markersize=5)\n",
    "plt.fill_between(epoch, wdr_org_mean - wdr_org_std, wdr_org_mean + wdr_org_std, color=\"green\", alpha=0.25)\n",
    "\n",
    "plt.plot(epoch, wdr_new_mean, c=\"red\", label=\"Attacker Watermark\",\n",
    "         markersize=5)\n",
    "plt.fill_between(epoch, wdr_new_mean - wdr_new_std, wdr_new_mean + wdr_new_std, color=\"red\", alpha=0.25)\n",
    "\n",
    "plt.plot(epoch, 0.47 * np.ones(len(epoch)), c=\"black\", label=\"Threshold\", linestyle='dashed')\n",
    "plt.xlabel(\"Epoch\")\n",
    "plt.ylabel(\"Accuracy\")\n",
    "plt.xlim(0, len(accuracy[0])-1)\n",
    "plt.ylim(0 - 0.1, 1 + 0.1)\n",
    "plt.xticks(np.arange(0, len(accuracy[0]), 20))\n",
    "plt.yticks(np.arange(0, 1.01, 0.2))\n",
    "plt.grid(True)\n",
    "plt.legend()\n",
    "plt.tight_layout()\n",
    "plt.savefig(\n",
    "    path\n",
    "    + \"overwriting.pdf\"\n",
    ")\n",
    "plt.close()"
   ]
  },
  {
   "cell_type": "code",
   "execution_count": 7,
   "id": "0ea4a48f-94ec-485c-8073-d52558a8f756",
   "metadata": {},
   "outputs": [
    {
     "data": {
      "text/plain": [
       "array([0.086, 0.108, 0.482, 0.632, 0.812, 0.908, 0.958, 0.978, 0.984,\n",
       "       0.998, 1.   , 1.   , 0.998, 1.   , 1.   , 1.   , 1.   , 1.   ,\n",
       "       1.   , 1.   , 1.   , 1.   , 1.   , 1.   , 1.   , 1.   , 1.   ,\n",
       "       1.   , 1.   , 1.   , 1.   , 1.   , 1.   , 1.   , 1.   , 1.   ,\n",
       "       1.   , 1.   , 1.   , 1.   , 1.   , 1.   , 1.   , 1.   , 1.   ,\n",
       "       1.   , 1.   , 1.   , 1.   , 1.   , 1.   , 1.   , 1.   , 1.   ,\n",
       "       1.   , 1.   , 1.   , 1.   , 1.   , 1.   , 1.   , 1.   , 1.   ,\n",
       "       1.   , 1.   , 1.   , 1.   , 1.   , 1.   , 1.   , 1.   , 1.   ,\n",
       "       1.   , 1.   , 1.   , 1.   , 1.   , 1.   , 1.   , 1.   , 1.   ,\n",
       "       1.   , 1.   , 1.   , 1.   , 1.   , 1.   , 1.   , 1.   , 1.   ,\n",
       "       1.   , 1.   , 1.   , 1.   , 1.   , 1.   , 1.   , 1.   , 1.   ,\n",
       "       1.   , 1.   ])"
      ]
     },
     "execution_count": 7,
     "metadata": {},
     "output_type": "execute_result"
    }
   ],
   "source": [
    "wdr_new_mean"
   ]
  },
  {
   "cell_type": "code",
   "execution_count": 8,
   "id": "6ef6a5f2-bee9-4dc6-9724-3bf4a2b5b716",
   "metadata": {},
   "outputs": [
    {
     "data": {
      "text/plain": [
       "array([[0.08, 0.07, 0.51, 0.63, 0.76, 0.9 , 0.98, 0.97, 0.95, 1.  , 1.  ,\n",
       "        1.  , 1.  , 1.  , 1.  , 1.  , 1.  , 1.  , 1.  , 1.  , 1.  , 1.  ,\n",
       "        1.  , 1.  , 1.  , 1.  , 1.  , 1.  , 1.  , 1.  , 1.  , 1.  , 1.  ,\n",
       "        1.  , 1.  , 1.  , 1.  , 1.  , 1.  , 1.  , 1.  , 1.  , 1.  , 1.  ,\n",
       "        1.  , 1.  , 1.  , 1.  , 1.  , 1.  , 1.  , 1.  , 1.  , 1.  , 1.  ,\n",
       "        1.  , 1.  , 1.  , 1.  , 1.  , 1.  , 1.  , 1.  , 1.  , 1.  , 1.  ,\n",
       "        1.  , 1.  , 1.  , 1.  , 1.  , 1.  , 1.  , 1.  , 1.  , 1.  , 1.  ,\n",
       "        1.  , 1.  , 1.  , 1.  , 1.  , 1.  , 1.  , 1.  , 1.  , 1.  , 1.  ,\n",
       "        1.  , 1.  , 1.  , 1.  , 1.  , 1.  , 1.  , 1.  , 1.  , 1.  , 1.  ,\n",
       "        1.  , 1.  ],\n",
       "       [0.09, 0.13, 0.5 , 0.66, 0.78, 0.88, 0.93, 0.98, 0.99, 1.  , 1.  ,\n",
       "        1.  , 1.  , 1.  , 1.  , 1.  , 1.  , 1.  , 1.  , 1.  , 1.  , 1.  ,\n",
       "        1.  , 1.  , 1.  , 1.  , 1.  , 1.  , 1.  , 1.  , 1.  , 1.  , 1.  ,\n",
       "        1.  , 1.  , 1.  , 1.  , 1.  , 1.  , 1.  , 1.  , 1.  , 1.  , 1.  ,\n",
       "        1.  , 1.  , 1.  , 1.  , 1.  , 1.  , 1.  , 1.  , 1.  , 1.  , 1.  ,\n",
       "        1.  , 1.  , 1.  , 1.  , 1.  , 1.  , 1.  , 1.  , 1.  , 1.  , 1.  ,\n",
       "        1.  , 1.  , 1.  , 1.  , 1.  , 1.  , 1.  , 1.  , 1.  , 1.  , 1.  ,\n",
       "        1.  , 1.  , 1.  , 1.  , 1.  , 1.  , 1.  , 1.  , 1.  , 1.  , 1.  ,\n",
       "        1.  , 1.  , 1.  , 1.  , 1.  , 1.  , 1.  , 1.  , 1.  , 1.  , 1.  ,\n",
       "        1.  , 1.  ],\n",
       "       [0.08, 0.16, 0.53, 0.58, 0.85, 0.93, 0.94, 0.97, 0.99, 1.  , 1.  ,\n",
       "        1.  , 1.  , 1.  , 1.  , 1.  , 1.  , 1.  , 1.  , 1.  , 1.  , 1.  ,\n",
       "        1.  , 1.  , 1.  , 1.  , 1.  , 1.  , 1.  , 1.  , 1.  , 1.  , 1.  ,\n",
       "        1.  , 1.  , 1.  , 1.  , 1.  , 1.  , 1.  , 1.  , 1.  , 1.  , 1.  ,\n",
       "        1.  , 1.  , 1.  , 1.  , 1.  , 1.  , 1.  , 1.  , 1.  , 1.  , 1.  ,\n",
       "        1.  , 1.  , 1.  , 1.  , 1.  , 1.  , 1.  , 1.  , 1.  , 1.  , 1.  ,\n",
       "        1.  , 1.  , 1.  , 1.  , 1.  , 1.  , 1.  , 1.  , 1.  , 1.  , 1.  ,\n",
       "        1.  , 1.  , 1.  , 1.  , 1.  , 1.  , 1.  , 1.  , 1.  , 1.  , 1.  ,\n",
       "        1.  , 1.  , 1.  , 1.  , 1.  , 1.  , 1.  , 1.  , 1.  , 1.  , 1.  ,\n",
       "        1.  , 1.  ],\n",
       "       [0.08, 0.09, 0.43, 0.65, 0.83, 0.92, 0.97, 0.99, 0.99, 0.99, 1.  ,\n",
       "        1.  , 1.  , 1.  , 1.  , 1.  , 1.  , 1.  , 1.  , 1.  , 1.  , 1.  ,\n",
       "        1.  , 1.  , 1.  , 1.  , 1.  , 1.  , 1.  , 1.  , 1.  , 1.  , 1.  ,\n",
       "        1.  , 1.  , 1.  , 1.  , 1.  , 1.  , 1.  , 1.  , 1.  , 1.  , 1.  ,\n",
       "        1.  , 1.  , 1.  , 1.  , 1.  , 1.  , 1.  , 1.  , 1.  , 1.  , 1.  ,\n",
       "        1.  , 1.  , 1.  , 1.  , 1.  , 1.  , 1.  , 1.  , 1.  , 1.  , 1.  ,\n",
       "        1.  , 1.  , 1.  , 1.  , 1.  , 1.  , 1.  , 1.  , 1.  , 1.  , 1.  ,\n",
       "        1.  , 1.  , 1.  , 1.  , 1.  , 1.  , 1.  , 1.  , 1.  , 1.  , 1.  ,\n",
       "        1.  , 1.  , 1.  , 1.  , 1.  , 1.  , 1.  , 1.  , 1.  , 1.  , 1.  ,\n",
       "        1.  , 1.  ],\n",
       "       [0.1 , 0.09, 0.44, 0.64, 0.84, 0.91, 0.97, 0.98, 1.  , 1.  , 1.  ,\n",
       "        1.  , 0.99, 1.  , 1.  , 1.  , 1.  , 1.  , 1.  , 1.  , 1.  , 1.  ,\n",
       "        1.  , 1.  , 1.  , 1.  , 1.  , 1.  , 1.  , 1.  , 1.  , 1.  , 1.  ,\n",
       "        1.  , 1.  , 1.  , 1.  , 1.  , 1.  , 1.  , 1.  , 1.  , 1.  , 1.  ,\n",
       "        1.  , 1.  , 1.  , 1.  , 1.  , 1.  , 1.  , 1.  , 1.  , 1.  , 1.  ,\n",
       "        1.  , 1.  , 1.  , 1.  , 1.  , 1.  , 1.  , 1.  , 1.  , 1.  , 1.  ,\n",
       "        1.  , 1.  , 1.  , 1.  , 1.  , 1.  , 1.  , 1.  , 1.  , 1.  , 1.  ,\n",
       "        1.  , 1.  , 1.  , 1.  , 1.  , 1.  , 1.  , 1.  , 1.  , 1.  , 1.  ,\n",
       "        1.  , 1.  , 1.  , 1.  , 1.  , 1.  , 1.  , 1.  , 1.  , 1.  , 1.  ,\n",
       "        1.  , 1.  ]])"
      ]
     },
     "execution_count": 8,
     "metadata": {},
     "output_type": "execute_result"
    }
   ],
   "source": [
    "wdr_new"
   ]
  },
  {
   "cell_type": "code",
   "execution_count": null,
   "id": "254426a5-7737-4342-9bd8-37f1ee98ef7a",
   "metadata": {},
   "outputs": [],
   "source": []
  }
 ],
 "metadata": {
  "kernelspec": {
   "display_name": "Python 3 (ipykernel)",
   "language": "python",
   "name": "python3"
  },
  "language_info": {
   "codemirror_mode": {
    "name": "ipython",
    "version": 3
   },
   "file_extension": ".py",
   "mimetype": "text/x-python",
   "name": "python",
   "nbconvert_exporter": "python",
   "pygments_lexer": "ipython3",
   "version": "3.10.12"
  }
 },
 "nbformat": 4,
 "nbformat_minor": 5
}

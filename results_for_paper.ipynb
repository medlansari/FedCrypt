{
 "cells": [
  {
   "cell_type": "code",
   "execution_count": 1,
   "id": "initial_id",
   "metadata": {
    "ExecuteTime": {
     "end_time": "2024-05-27T07:58:39.068860Z",
     "start_time": "2024-05-27T07:58:37.805838Z"
    }
   },
   "outputs": [],
   "source": [
    "import torch\n",
    "import os\n",
    "import numpy as np\n",
    "import matplotlib.pyplot as plt\n",
    "plt.rcParams[\"font.family\"] = \"Times New Roman\""
   ]
  },
  {
   "cell_type": "code",
   "execution_count": 2,
   "id": "2696d972f1b5be77",
   "metadata": {
    "ExecuteTime": {
     "end_time": "2024-05-27T07:58:39.072133Z",
     "start_time": "2024-05-27T07:58:39.069721Z"
    }
   },
   "outputs": [],
   "source": [
    "path = \"outputs_paper/\""
   ]
  },
  {
   "cell_type": "code",
   "execution_count": 3,
   "id": "6976671c5b465275",
   "metadata": {
    "ExecuteTime": {
     "end_time": "2024-05-24T13:47:26.568428Z",
     "start_time": "2024-05-24T13:47:26.565760Z"
    }
   },
   "outputs": [],
   "source": [
    "files = []\n",
    "\n",
    "# Parcours tous les fichiers dans le répertoire\n",
    "for file in os.listdir(path):\n",
    "    # Vérifie si le nom du fichier commence par \"overwriting\"\n",
    "    if file.startswith(\"Overwritting\"):\n",
    "        # Ajoute le nom du fichier à la liste\n",
    "        files.append(file)"
   ]
  },
  {
   "cell_type": "code",
   "execution_count": 4,
   "id": "c628faaae75e5b93",
   "metadata": {
    "ExecuteTime": {
     "end_time": "2024-05-24T13:47:29.425032Z",
     "start_time": "2024-05-24T13:47:29.422096Z"
    }
   },
   "outputs": [],
   "source": [
    "accuracy = np.zeros((5,100))\n",
    "owner = np.zeros((5,100))\n",
    "attacker = np.zeros((5,100))\n",
    "for e, file in enumerate(files):\n",
    "    a = np.load(path + file)\n",
    "    accuracy[e] = a['arr_0']\n",
    "    owner[e] = a['arr_1']\n",
    "    attacker[e] = a['arr_2']"
   ]
  },
  {
   "cell_type": "code",
   "execution_count": 5,
   "id": "bfd6ed40a60f64fa",
   "metadata": {
    "ExecuteTime": {
     "end_time": "2024-05-24T13:47:30.649039Z",
     "start_time": "2024-05-24T13:47:30.646299Z"
    }
   },
   "outputs": [],
   "source": [
    "accuracy_mean = np.mean(accuracy, axis=0)\n",
    "accuracy_std = np.std(accuracy, axis=0)\n",
    "\n",
    "owner_mean = np.mean(owner, axis=0)\n",
    "owner_std = np.std(owner, axis=0)\n",
    "\n",
    "attacker_mean = np.mean(attacker, axis=0)\n",
    "attacker_std = np.std(attacker, axis=0)"
   ]
  },
  {
   "cell_type": "code",
   "execution_count": 6,
   "id": "451c8357e957d56d",
   "metadata": {
    "ExecuteTime": {
     "end_time": "2024-05-24T13:47:31.124211Z",
     "start_time": "2024-05-24T13:47:31.121492Z"
    }
   },
   "outputs": [
    {
     "name": "stdout",
     "output_type": "stream",
     "text": [
      "0.0 0.0\n",
      "0.0 0.0\n",
      "0.0 0.0\n",
      "0.0 0.0\n",
      "0.0 0.0\n"
     ]
    }
   ],
   "source": [
    "a = [0, 24, 49, 74, 99]\n",
    "for i in a:\n",
    "    print(attacker_mean[i], accuracy_std[i])"
   ]
  },
  {
   "cell_type": "code",
   "execution_count": null,
   "id": "4cb2949b59c1d1c0",
   "metadata": {
    "ExecuteTime": {
     "end_time": "2024-04-18T09:08:06.185675Z",
     "start_time": "2024-04-18T09:08:06.183844Z"
    }
   },
   "outputs": [],
   "source": []
  },
  {
   "cell_type": "code",
   "execution_count": 7,
   "id": "65f87fb5d187b8e8",
   "metadata": {
    "ExecuteTime": {
     "end_time": "2024-04-18T09:08:06.498566Z",
     "start_time": "2024-04-18T09:08:06.495967Z"
    }
   },
   "outputs": [],
   "source": [
    "files = []\n",
    "\n",
    "# Parcours tous les fichiers dans le répertoire\n",
    "for file in os.listdir(path):\n",
    "    # Vérifie si le nom du fichier commence par \"overwriting\"\n",
    "    if file.startswith(\"pruning1\"):\n",
    "        # Ajoute le nom du fichier à la liste\n",
    "        files.append(file)"
   ]
  },
  {
   "cell_type": "code",
   "execution_count": 8,
   "id": "42a3cbb5d5d5e642",
   "metadata": {
    "ExecuteTime": {
     "end_time": "2024-04-18T09:08:06.812036Z",
     "start_time": "2024-04-18T09:08:06.808495Z"
    }
   },
   "outputs": [],
   "source": [
    "accuracy = np.zeros((5,11))\n",
    "wdr = np.zeros((5,11))\n",
    "for e, file in enumerate(files):\n",
    "    a = np.load(path + file)\n",
    "    accuracy[e] = a['arr_1']\n",
    "    wdr[e] = a['arr_3']"
   ]
  },
  {
   "cell_type": "code",
   "execution_count": 9,
   "id": "485aff70e5e3510f",
   "metadata": {
    "ExecuteTime": {
     "end_time": "2024-04-18T09:08:07.098500Z",
     "start_time": "2024-04-18T09:08:07.095805Z"
    }
   },
   "outputs": [],
   "source": [
    "accuracy_mean = np.mean(accuracy, axis=0)\n",
    "accuracy_std = np.std(accuracy, axis=0)\n",
    "\n",
    "wdr_mean = np.mean(wdr, axis=0)\n",
    "wdr_std = np.std(wdr, axis=0)"
   ]
  },
  {
   "cell_type": "code",
   "execution_count": 10,
   "id": "fc21c2c7e8a0484f",
   "metadata": {
    "ExecuteTime": {
     "end_time": "2024-04-18T09:08:07.388409Z",
     "start_time": "2024-04-18T09:08:07.386010Z"
    }
   },
   "outputs": [],
   "source": [
    "pruning_rates = np.arange(0, 1.1, 0.1)"
   ]
  },
  {
   "cell_type": "code",
   "execution_count": 11,
   "id": "2ec222f7ccdf613e",
   "metadata": {
    "ExecuteTime": {
     "end_time": "2024-04-18T09:08:07.807198Z",
     "start_time": "2024-04-18T09:08:07.680820Z"
    }
   },
   "outputs": [],
   "source": [
    "plt.figure(figsize=(5, 4), dpi=400)\n",
    "pruning_rates = np.array(pruning_rates)\n",
    "plt.plot(pruning_rates, accuracy_mean, c=\"blue\", label=\"Test\")\n",
    "plt.fill_between(pruning_rates, accuracy_mean-accuracy_std, accuracy_mean+accuracy_std, color=\"blue\", alpha=0.25)\n",
    "plt.plot(pruning_rates, wdr_mean, c=\"black\", label=\"Dynamic Watermark\", marker=\"v\",\n",
    "         markersize=3,\n",
    "         linestyle=\"dashed\")\n",
    "plt.fill_between(pruning_rates, wdr_mean-wdr_std, wdr_mean+wdr_std, color=\"black\" , alpha=0.25)\n",
    "plt.plot(pruning_rates, 0.47*np.ones(len(pruning_rates)), c=\"red\", label=\"$\\delta$\", linestyle='dashed')\n",
    "plt.xlabel(\"Pruning rate\")\n",
    "plt.ylabel(\"Accuracy\")\n",
    "plt.xlim(0, 1)\n",
    "plt.ylim(0 - 0.1, 1 + 0.1)\n",
    "plt.xticks(pruning_rates)\n",
    "plt.yticks(pruning_rates)\n",
    "plt.grid(True)\n",
    "plt.legend()\n",
    "plt.savefig(\n",
    "    path\n",
    "    + \"pruning.pdf\"\n",
    ")\n",
    "plt.close()"
   ]
  },
  {
   "cell_type": "code",
   "execution_count": 113,
   "id": "dcb6b9b6016c0e74",
   "metadata": {
    "ExecuteTime": {
     "end_time": "2024-04-18T09:20:38.151754Z",
     "start_time": "2024-04-18T09:20:38.149235Z"
    }
   },
   "outputs": [
    {
     "data": {
      "text/plain": [
       "0.23819999999999997"
      ]
     },
     "execution_count": 113,
     "metadata": {},
     "output_type": "execute_result"
    }
   ],
   "source": [
    "accuracy_mean[0]-accuracy_mean[8]"
   ]
  },
  {
   "cell_type": "code",
   "execution_count": null,
   "id": "978e736783461220",
   "metadata": {},
   "outputs": [],
   "source": []
  },
  {
   "cell_type": "code",
   "execution_count": 63,
   "id": "e8ed337ff38ea705",
   "metadata": {
    "ExecuteTime": {
     "end_time": "2024-05-27T07:58:50.986310Z",
     "start_time": "2024-05-27T07:58:50.983380Z"
    }
   },
   "outputs": [],
   "source": [
    "files = []\n",
    "\n",
    "# Parcours tous les fichiers dans le répertoire\n",
    "for file in os.listdir(path):\n",
    "    # Vérifie si le nom du fichier commence par \"overwriting\"\n",
    "    if file.startswith(\"save\"):\n",
    "        # Ajoute le nom du fichier à la liste\n",
    "        files.append(file)"
   ]
  },
  {
   "cell_type": "code",
   "execution_count": 64,
   "id": "51cf0a3fd814615",
   "metadata": {
    "ExecuteTime": {
     "end_time": "2024-05-27T07:58:51.211540Z",
     "start_time": "2024-05-27T07:58:51.208797Z"
    }
   },
   "outputs": [
    {
     "data": {
      "text/plain": [
       "['save_FHE_overwriting_80_5_FHE_1716550963.4475272_1716823007.9710631.npz',\n",
       " 'save_FHE_overwriting_80_5_FHE_1716550963.4475272_1716829678.9348998.npz',\n",
       " 'save_FHE_overwriting_80_5_FHE_1716550963.4475272_1716826340.6484578.npz',\n",
       " 'save_FHE_overwriting_80_5_FHE_1716550963.4475272_1716824687.3321466.npz',\n",
       " 'save_FHE_overwriting_80_5_FHE_1716550963.4475272_1716828027.5967386.npz']"
      ]
     },
     "execution_count": 64,
     "metadata": {},
     "output_type": "execute_result"
    }
   ],
   "source": [
    "files"
   ]
  },
  {
   "cell_type": "code",
   "execution_count": 22,
   "id": "51940fe4c47a9e0e",
   "metadata": {
    "ExecuteTime": {
     "end_time": "2024-05-27T07:58:51.655193Z",
     "start_time": "2024-05-27T07:58:51.647947Z"
    }
   },
   "outputs": [],
   "source": [
    "accuracy = np.zeros((len(files),101))\n",
    "wdr = np.zeros((len(files),101))\n",
    "epoch = np.zeros((len(files)))\n",
    "for e, file in enumerate(files):\n",
    "    a = np.load(path + file)\n",
    "    accuracy[e] = a['arr_0']\n",
    "    wdr[e] = a['arr_1']"
   ]
  },
  {
   "cell_type": "code",
   "execution_count": 23,
   "id": "8e7c14e950f010e3",
   "metadata": {
    "ExecuteTime": {
     "end_time": "2024-05-27T07:58:52.252855Z",
     "start_time": "2024-05-27T07:58:52.250571Z"
    }
   },
   "outputs": [],
   "source": [
    "accuracy_mean = np.mean(accuracy, axis=0)\n",
    "accuracy_std = np.std(accuracy, axis=0)\n",
    "\n",
    "wdr_mean = np.mean(wdr, axis=0)\n",
    "wdr_std = np.std(wdr, axis=0)"
   ]
  },
  {
   "cell_type": "code",
   "execution_count": 11,
   "id": "7a8491998a3bf8ca",
   "metadata": {
    "ExecuteTime": {
     "end_time": "2024-05-27T07:58:52.606268Z",
     "start_time": "2024-05-27T07:58:52.603397Z"
    }
   },
   "outputs": [
    {
     "name": "stdout",
     "output_type": "stream",
     "text": [
      "0.87 0.0 1.0 0.0\n",
      "0.87 0.0 0.94 0.0\n",
      "0.873 0.0 0.9 0.0\n",
      "0.876 0.0 0.89 0.0\n",
      "0.877 0.0 0.93 0.0\n"
     ]
    }
   ],
   "source": [
    "print(accuracy_mean[0], accuracy_std[0], wdr_mean[0], wdr_std[0])\n",
    "print(accuracy_mean[6], accuracy_std[6], wdr_mean[6], wdr_std[6])\n",
    "print(accuracy_mean[11], accuracy_std[11], wdr_mean[11], wdr_std[11])\n",
    "print(accuracy_mean[16], accuracy_std[16], wdr_mean[16], wdr_std[16])\n",
    "print(accuracy_mean[21], accuracy_std[21], wdr_mean[21], wdr_std[21])"
   ]
  },
  {
   "cell_type": "code",
   "execution_count": 10,
   "id": "50857300747dbfe2",
   "metadata": {
    "ExecuteTime": {
     "end_time": "2024-05-27T11:13:09.489362Z",
     "start_time": "2024-05-27T11:13:09.405830Z"
    }
   },
   "outputs": [],
   "source": [
    "fig = plt.figure(figsize=(4, 3), dpi=400)\n",
    "plt.axes(facecolor='#f7f7f7')\n",
    "epoch = np.arange(0, 101, 1) \n",
    "plt.plot(epoch, accuracy_mean, c=\"blue\", label=\"Test Set\")\n",
    "plt.fill_between(epoch, accuracy_mean-accuracy_std, accuracy_mean+accuracy_std, color=\"blue\", alpha=0.25)\n",
    "\n",
    "plt.plot(epoch, wdr_mean, c=\"green\", label=\"Watermark\",\n",
    "         markersize=5)\n",
    "plt.fill_between(epoch, wdr_mean-wdr_std, wdr_mean+wdr_std, color=\"green\" , alpha=0.25)\n",
    "\n",
    "plt.plot(epoch, 0.47*np.ones(len(epoch)), c=\"black\", label=\"Treshold\", linestyle='dashed')\n",
    "plt.xlabel(\"Epoch\")\n",
    "plt.ylabel(\"Accuracy\")\n",
    "plt.xlim(0, 100)\n",
    "plt.ylim(0, 1)\n",
    "plt.xticks(np.arange(0,101,10))\n",
    "plt.yticks(np.arange(0,1.01,0.2))\n",
    "plt.grid(True)\n",
    "plt.legend()\n",
    "plt.tight_layout()\n",
    "plt.savefig(\n",
    "    path\n",
    "    + \"fine-tuning.pdf\"\n",
    ")\n",
    "plt.close()"
   ]
  },
  {
   "cell_type": "code",
   "execution_count": 65,
   "id": "4674e0ec13bd6a0c",
   "metadata": {},
   "outputs": [],
   "source": [
    "accuracy = np.zeros((len(files),101))\n",
    "wdr_org = np.zeros((len(files),101))\n",
    "wdr_new = np.zeros((len(files),101))\n",
    "epoch = np.zeros((len(files)))\n",
    "for e, file in enumerate(files):\n",
    "    a = np.load(path + file)\n",
    "    accuracy[e] = a['arr_0']\n",
    "    wdr_org[e] = a['arr_1']\n",
    "    wdr_new[e] = a['arr_2']"
   ]
  },
  {
   "cell_type": "code",
   "execution_count": 66,
   "id": "76896660-c4bb-41ff-abf9-fa721712ccc6",
   "metadata": {},
   "outputs": [],
   "source": [
    "accuracy_mean = np.mean(accuracy, axis=0)\n",
    "accuracy_std = np.std(accuracy, axis=0)\n",
    "\n",
    "wdr_org_mean = np.mean(wdr_org, axis=0)\n",
    "wdr_org_std = np.std(wdr_org, axis=0)\n",
    "\n",
    "wdr_new_mean = np.mean(wdr_new, axis=0)\n",
    "wdr_new_std = np.std(wdr_new, axis=0)"
   ]
  },
  {
   "cell_type": "code",
   "execution_count": 67,
   "id": "8fc385b6e1a92238",
   "metadata": {},
   "outputs": [],
   "source": [
    "# %%\n",
    "fig = plt.figure(figsize=(4, 3), dpi=400)\n",
    "plt.axes(facecolor='#f7f7f7')\n",
    "epoch = np.arange(0, len(accuracy[0]), 1)\n",
    "plt.plot(epoch, accuracy_mean, c=\"blue\", label=\"Test Set\")\n",
    "plt.fill_between(epoch, accuracy_mean - accuracy_std, accuracy_mean + accuracy_std, color=\"blue\", alpha=0.25)\n",
    "\n",
    "plt.plot(epoch, wdr_org_mean, c=\"green\", label=\"Original Watermark\",\n",
    "         markersize=5)\n",
    "plt.fill_between(epoch, wdr_org_mean - wdr_org_std, wdr_org_mean + wdr_org_std, color=\"green\", alpha=0.25)\n",
    "\n",
    "plt.plot(epoch, wdr_new_mean, c=\"red\", label=\"Attacker Watermark\",\n",
    "         markersize=5)\n",
    "plt.fill_between(epoch, wdr_new_mean - wdr_new_std, wdr_new_mean + wdr_new_std, color=\"red\", alpha=0.25)\n",
    "\n",
    "plt.plot(epoch, 0.47 * np.ones(len(epoch)), c=\"black\", label=\"Treshold\", linestyle='dashed')\n",
    "plt.xlabel(\"Epoch\")\n",
    "plt.ylabel(\"Accuracy\")\n",
    "plt.xlim(0, len(accuracy[0])-1)\n",
    "plt.ylim(0, 1)\n",
    "plt.xticks(np.arange(0, len(accuracy[0]), 10))\n",
    "plt.yticks(np.arange(0, 1.01, 0.2))\n",
    "plt.grid(True)\n",
    "plt.legend()\n",
    "plt.tight_layout()\n",
    "plt.savefig(\n",
    "    path\n",
    "    + \"overwriting.pdf\"\n",
    ")\n",
    "plt.close()"
   ]
  },
  {
   "cell_type": "code",
   "execution_count": null,
   "id": "0ea4a48f-94ec-485c-8073-d52558a8f756",
   "metadata": {},
   "outputs": [],
   "source": []
  }
 ],
 "metadata": {
  "kernelspec": {
   "display_name": "Python 3 (ipykernel)",
   "language": "python",
   "name": "python3"
  },
  "language_info": {
   "codemirror_mode": {
    "name": "ipython",
    "version": 3
   },
   "file_extension": ".py",
   "mimetype": "text/x-python",
   "name": "python",
   "nbconvert_exporter": "python",
   "pygments_lexer": "ipython3",
   "version": "3.10.12"
  }
 },
 "nbformat": 4,
 "nbformat_minor": 5
}

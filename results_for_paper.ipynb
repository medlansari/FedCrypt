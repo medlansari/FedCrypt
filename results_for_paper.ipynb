{
 "cells": [
  {
   "cell_type": "code",
   "execution_count": 1,
   "id": "initial_id",
   "metadata": {
    "ExecuteTime": {
     "end_time": "2024-05-27T07:58:39.068860Z",
     "start_time": "2024-05-27T07:58:37.805838Z"
    }
   },
   "outputs": [],
   "source": [
    "import torch\n",
    "import os\n",
    "import numpy as np\n",
    "import matplotlib.pyplot as plt\n",
    "plt.rcParams[\"font.family\"] = \"Times New Roman\""
   ]
  },
  {
   "cell_type": "code",
   "execution_count": 2,
   "id": "2696d972f1b5be77",
   "metadata": {
    "ExecuteTime": {
     "end_time": "2024-05-27T07:58:39.072133Z",
     "start_time": "2024-05-27T07:58:39.069721Z"
    }
   },
   "outputs": [],
   "source": [
    "path = \"outputs_paper/\""
   ]
  },
  {
   "cell_type": "code",
   "execution_count": 3,
   "id": "6976671c5b465275",
   "metadata": {
    "ExecuteTime": {
     "end_time": "2024-05-24T13:47:26.568428Z",
     "start_time": "2024-05-24T13:47:26.565760Z"
    }
   },
   "outputs": [],
   "source": [
    "files = []\n",
    "\n",
    "# Parcours tous les fichiers dans le répertoire\n",
    "for file in os.listdir(path):\n",
    "    # Vérifie si le nom du fichier commence par \"overwriting\"\n",
    "    if file.startswith(\"Overwritting\"):\n",
    "        # Ajoute le nom du fichier à la liste\n",
    "        files.append(file)"
   ]
  },
  {
   "cell_type": "code",
   "execution_count": 4,
   "id": "c628faaae75e5b93",
   "metadata": {
    "ExecuteTime": {
     "end_time": "2024-05-24T13:47:29.425032Z",
     "start_time": "2024-05-24T13:47:29.422096Z"
    }
   },
   "outputs": [],
   "source": [
    "accuracy = np.zeros((5,100))\n",
    "owner = np.zeros((5,100))\n",
    "attacker = np.zeros((5,100))\n",
    "for e, file in enumerate(files):\n",
    "    a = np.load(path + file)\n",
    "    accuracy[e] = a['arr_0']\n",
    "    owner[e] = a['arr_1']\n",
    "    attacker[e] = a['arr_2']"
   ]
  },
  {
   "cell_type": "code",
   "execution_count": 5,
   "id": "bfd6ed40a60f64fa",
   "metadata": {
    "ExecuteTime": {
     "end_time": "2024-05-24T13:47:30.649039Z",
     "start_time": "2024-05-24T13:47:30.646299Z"
    }
   },
   "outputs": [],
   "source": [
    "accuracy_mean = np.mean(accuracy, axis=0)\n",
    "accuracy_std = np.std(accuracy, axis=0)\n",
    "\n",
    "owner_mean = np.mean(owner, axis=0)\n",
    "owner_std = np.std(owner, axis=0)\n",
    "\n",
    "attacker_mean = np.mean(attacker, axis=0)\n",
    "attacker_std = np.std(attacker, axis=0)"
   ]
  },
  {
   "cell_type": "code",
   "execution_count": 6,
   "id": "451c8357e957d56d",
   "metadata": {
    "ExecuteTime": {
     "end_time": "2024-05-24T13:47:31.124211Z",
     "start_time": "2024-05-24T13:47:31.121492Z"
    }
   },
   "outputs": [
    {
     "name": "stdout",
     "output_type": "stream",
     "text": [
      "0.0 0.0\n",
      "0.0 0.0\n",
      "0.0 0.0\n",
      "0.0 0.0\n",
      "0.0 0.0\n"
     ]
    }
   ],
   "source": [
    "a = [0, 24, 49, 74, 99]\n",
    "for i in a:\n",
    "    print(attacker_mean[i], accuracy_std[i])"
   ]
  },
  {
   "cell_type": "code",
   "execution_count": null,
   "id": "4cb2949b59c1d1c0",
   "metadata": {
    "ExecuteTime": {
     "end_time": "2024-04-18T09:08:06.185675Z",
     "start_time": "2024-04-18T09:08:06.183844Z"
    }
   },
   "outputs": [],
   "source": []
  },
  {
   "cell_type": "code",
   "execution_count": 7,
   "id": "65f87fb5d187b8e8",
   "metadata": {
    "ExecuteTime": {
     "end_time": "2024-04-18T09:08:06.498566Z",
     "start_time": "2024-04-18T09:08:06.495967Z"
    }
   },
   "outputs": [],
   "source": [
    "files = []\n",
    "\n",
    "# Parcours tous les fichiers dans le répertoire\n",
    "for file in os.listdir(path):\n",
    "    # Vérifie si le nom du fichier commence par \"overwriting\"\n",
    "    if file.startswith(\"pruning1\"):\n",
    "        # Ajoute le nom du fichier à la liste\n",
    "        files.append(file)"
   ]
  },
  {
   "cell_type": "code",
   "execution_count": 8,
   "id": "42a3cbb5d5d5e642",
   "metadata": {
    "ExecuteTime": {
     "end_time": "2024-04-18T09:08:06.812036Z",
     "start_time": "2024-04-18T09:08:06.808495Z"
    }
   },
   "outputs": [],
   "source": [
    "accuracy = np.zeros((5,11))\n",
    "wdr = np.zeros((5,11))\n",
    "for e, file in enumerate(files):\n",
    "    a = np.load(path + file)\n",
    "    accuracy[e] = a['arr_1']\n",
    "    wdr[e] = a['arr_3']"
   ]
  },
  {
   "cell_type": "code",
   "execution_count": 9,
   "id": "485aff70e5e3510f",
   "metadata": {
    "ExecuteTime": {
     "end_time": "2024-04-18T09:08:07.098500Z",
     "start_time": "2024-04-18T09:08:07.095805Z"
    }
   },
   "outputs": [],
   "source": [
    "accuracy_mean = np.mean(accuracy, axis=0)\n",
    "accuracy_std = np.std(accuracy, axis=0)\n",
    "\n",
    "wdr_mean = np.mean(wdr, axis=0)\n",
    "wdr_std = np.std(wdr, axis=0)"
   ]
  },
  {
   "cell_type": "code",
   "execution_count": 10,
   "id": "fc21c2c7e8a0484f",
   "metadata": {
    "ExecuteTime": {
     "end_time": "2024-04-18T09:08:07.388409Z",
     "start_time": "2024-04-18T09:08:07.386010Z"
    }
   },
   "outputs": [],
   "source": [
    "pruning_rates = np.arange(0, 1.1, 0.1)"
   ]
  },
  {
   "cell_type": "code",
   "execution_count": 11,
   "id": "2ec222f7ccdf613e",
   "metadata": {
    "ExecuteTime": {
     "end_time": "2024-04-18T09:08:07.807198Z",
     "start_time": "2024-04-18T09:08:07.680820Z"
    }
   },
   "outputs": [],
   "source": [
    "plt.figure(figsize=(5, 4), dpi=400)\n",
    "pruning_rates = np.array(pruning_rates)\n",
    "plt.plot(pruning_rates, accuracy_mean, c=\"blue\", label=\"Test\")\n",
    "plt.fill_between(pruning_rates, accuracy_mean-accuracy_std, accuracy_mean+accuracy_std, color=\"blue\", alpha=0.25)\n",
    "plt.plot(pruning_rates, wdr_mean, c=\"black\", label=\"Dynamic Watermark\", marker=\"v\",\n",
    "         markersize=3,\n",
    "         linestyle=\"dashed\")\n",
    "plt.fill_between(pruning_rates, wdr_mean-wdr_std, wdr_mean+wdr_std, color=\"black\" , alpha=0.25)\n",
    "plt.plot(pruning_rates, 0.47*np.ones(len(pruning_rates)), c=\"red\", label=\"$\\delta$\", linestyle='dashed')\n",
    "plt.xlabel(\"Pruning rate\")\n",
    "plt.ylabel(\"Accuracy\")\n",
    "plt.xlim(0, 1)\n",
    "plt.ylim(0 - 0.1, 1 + 0.1)\n",
    "plt.xticks(pruning_rates)\n",
    "plt.yticks(pruning_rates)\n",
    "plt.grid(True)\n",
    "plt.legend()\n",
    "plt.savefig(\n",
    "    path\n",
    "    + \"pruning.pdf\"\n",
    ")\n",
    "plt.close()"
   ]
  },
  {
   "cell_type": "code",
   "execution_count": 113,
   "id": "dcb6b9b6016c0e74",
   "metadata": {
    "ExecuteTime": {
     "end_time": "2024-04-18T09:20:38.151754Z",
     "start_time": "2024-04-18T09:20:38.149235Z"
    }
   },
   "outputs": [
    {
     "data": {
      "text/plain": [
       "0.23819999999999997"
      ]
     },
     "execution_count": 113,
     "metadata": {},
     "output_type": "execute_result"
    }
   ],
   "source": [
    "accuracy_mean[0]-accuracy_mean[8]"
   ]
  },
  {
   "cell_type": "code",
   "execution_count": null,
   "id": "978e736783461220",
   "metadata": {},
   "outputs": [],
   "source": []
  },
  {
   "cell_type": "code",
   "execution_count": 3,
   "id": "e8ed337ff38ea705",
   "metadata": {
    "ExecuteTime": {
     "end_time": "2024-05-29T07:28:18.182352Z",
     "start_time": "2024-05-29T07:28:18.179987Z"
    }
   },
   "outputs": [],
   "source": [
    "files = []\n",
    "\n",
    "# Parcours tous les fichiers dans le répertoire\n",
    "for file in os.listdir(path):\n",
    "    # Vérifie si le nom du fichier commence par \"overwriting\"\n",
    "    if file.startswith(\"save_FHE_overwriting_80_5_FHE_1716902969\"):\n",
    "        # Ajoute le nom du fichier à la liste\n",
    "        files.append(file)"
   ]
  },
  {
   "cell_type": "code",
   "execution_count": 4,
   "id": "51cf0a3fd814615",
   "metadata": {
    "ExecuteTime": {
     "end_time": "2024-05-29T07:28:18.498145Z",
     "start_time": "2024-05-29T07:28:18.495426Z"
    }
   },
   "outputs": [
    {
     "data": {
      "text/plain": [
       "['save_FHE_overwriting_80_5_FHE_1716902969.942029_1716917894.3950567.npz',\n",
       " 'save_FHE_overwriting_80_5_FHE_1716902969.942029_1716921283.8874762.npz',\n",
       " 'save_FHE_overwriting_80_5_FHE_1716902969.942029_1716922978.526539.npz',\n",
       " 'save_FHE_overwriting_80_5_FHE_1716902969.942029_1716919584.238824.npz',\n",
       " 'save_FHE_overwriting_80_5_FHE_1716902969.942029_1716916195.2306218.npz']"
      ]
     },
     "execution_count": 4,
     "metadata": {},
     "output_type": "execute_result"
    }
   ],
   "source": [
    "files"
   ]
  },
  {
   "cell_type": "code",
   "execution_count": 11,
   "id": "51940fe4c47a9e0e",
   "metadata": {
    "ExecuteTime": {
     "end_time": "2024-05-29T07:28:19.226197Z",
     "start_time": "2024-05-29T07:28:19.221753Z"
    }
   },
   "outputs": [],
   "source": [
    "accuracy = np.zeros((len(files),101))\n",
    "wdr = np.zeros((len(files),101))\n",
    "epoch = np.zeros((len(files)))\n",
    "for e, file in enumerate(files):\n",
    "    a = np.load(path + file)\n",
    "    accuracy[e] = a['arr_0']\n",
    "    wdr[e] = a['arr_1']"
   ]
  },
  {
   "cell_type": "code",
   "execution_count": 12,
   "id": "8e7c14e950f010e3",
   "metadata": {
    "ExecuteTime": {
     "end_time": "2024-05-29T07:28:20.221052Z",
     "start_time": "2024-05-29T07:28:20.218845Z"
    }
   },
   "outputs": [],
   "source": [
    "accuracy_mean = np.mean(accuracy, axis=0)\n",
    "accuracy_std = np.std(accuracy, axis=0)\n",
    "\n",
    "wdr_mean = np.mean(wdr, axis=0)\n",
    "wdr_std = np.std(wdr, axis=0)"
   ]
  },
  {
   "cell_type": "code",
   "execution_count": 13,
   "id": "7a8491998a3bf8ca",
   "metadata": {
    "ExecuteTime": {
     "end_time": "2024-05-29T07:28:20.754125Z",
     "start_time": "2024-05-29T07:28:20.751430Z"
    }
   },
   "outputs": [
    {
     "name": "stdout",
     "output_type": "stream",
     "text": [
      "0.8710000000000001 1.1102230246251565e-16 1.0 0.0\n",
      "0.8722 0.0016000000000000014 0.998 0.0040000000000000036\n",
      "0.8737999999999999 0.002039607805437116 0.974 0.032\n",
      "0.8756 0.0004898979485566361 0.9880000000000001 0.014696938456699083\n",
      "0.8768 0.001326649916142161 0.9940000000000001 0.008000000000000007\n"
     ]
    }
   ],
   "source": [
    "print(accuracy_mean[0], accuracy_std[0], wdr_mean[0], wdr_std[0])\n",
    "print(accuracy_mean[6], accuracy_std[6], wdr_mean[6], wdr_std[6])\n",
    "print(accuracy_mean[11], accuracy_std[11], wdr_mean[11], wdr_std[11])\n",
    "print(accuracy_mean[16], accuracy_std[16], wdr_mean[16], wdr_std[16])\n",
    "print(accuracy_mean[21], accuracy_std[21], wdr_mean[21], wdr_std[21])"
   ]
  },
  {
   "cell_type": "code",
   "execution_count": 8,
   "id": "50857300747dbfe2",
   "metadata": {
    "ExecuteTime": {
     "end_time": "2024-05-29T07:28:21.425296Z",
     "start_time": "2024-05-29T07:28:21.343078Z"
    }
   },
   "outputs": [],
   "source": [
    "fig = plt.figure(figsize=(4, 3), dpi=400)\n",
    "plt.axes(facecolor='#f7f7f7')\n",
    "epoch = np.arange(0, 101, 1) \n",
    "plt.plot(epoch, accuracy_mean, c=\"blue\", label=\"Test Set\")\n",
    "plt.fill_between(epoch, accuracy_mean-accuracy_std, accuracy_mean+accuracy_std, color=\"blue\", alpha=0.25)\n",
    "\n",
    "plt.plot(epoch, wdr_mean, c=\"green\", label=\"Watermark\",\n",
    "         markersize=5)\n",
    "plt.fill_between(epoch, wdr_mean-wdr_std, wdr_mean+wdr_std, color=\"green\" , alpha=0.25)\n",
    "\n",
    "plt.plot(epoch, 0.47*np.ones(len(epoch)), c=\"black\", label=\"Treshold\", linestyle='dashed')\n",
    "plt.xlabel(\"Epoch\")\n",
    "plt.ylabel(\"Accuracy\")\n",
    "plt.xlim(0, 100)\n",
    "plt.ylim(0, 1)\n",
    "plt.xticks(np.arange(0,101,10))\n",
    "plt.yticks(np.arange(0,1.01,0.2))\n",
    "plt.grid(True)\n",
    "plt.legend()\n",
    "plt.tight_layout()\n",
    "plt.savefig(\n",
    "    path\n",
    "    + \"fine-tuning.pdf\"\n",
    ")\n",
    "plt.close()"
   ]
  },
  {
   "cell_type": "code",
   "execution_count": 14,
   "id": "4674e0ec13bd6a0c",
   "metadata": {
    "ExecuteTime": {
     "end_time": "2024-05-29T07:28:22.222709Z",
     "start_time": "2024-05-29T07:28:22.175426Z"
    }
   },
   "outputs": [],
   "source": [
    "accuracy = np.zeros((len(files),101))\n",
    "wdr_org = np.zeros((len(files),101))\n",
    "wdr_new = np.zeros((len(files),101))\n",
    "epoch = np.zeros((len(files)))\n",
    "for e, file in enumerate(files):\n",
    "    a = np.load(path + file)\n",
    "    accuracy[e] = a['arr_0']\n",
    "    wdr_org[e] = a['arr_1']\n",
    "    wdr_new[e] = a['arr_2']"
   ]
  },
  {
   "cell_type": "code",
   "execution_count": 15,
   "id": "76896660-c4bb-41ff-abf9-fa721712ccc6",
   "metadata": {
    "ExecuteTime": {
     "end_time": "2024-05-29T07:27:15.069853Z",
     "start_time": "2024-05-29T07:27:15.067409Z"
    }
   },
   "outputs": [],
   "source": [
    "accuracy_mean = np.mean(accuracy, axis=0)\n",
    "accuracy_std = np.std(accuracy, axis=0)\n",
    "\n",
    "wdr_org_mean = np.mean(wdr_org, axis=0)\n",
    "wdr_org_std = np.std(wdr_org, axis=0)\n",
    "\n",
    "wdr_new_mean = np.mean(wdr_new, axis=0)\n",
    "wdr_new_std = np.std(wdr_new, axis=0)"
   ]
  },
  {
   "cell_type": "code",
   "execution_count": 16,
   "id": "8fc385b6e1a92238",
   "metadata": {
    "ExecuteTime": {
     "end_time": "2024-05-29T07:27:15.679856Z",
     "start_time": "2024-05-29T07:27:15.587116Z"
    }
   },
   "outputs": [],
   "source": [
    "# %%\n",
    "fig = plt.figure(figsize=(4, 3), dpi=400)\n",
    "plt.axes(facecolor='#f7f7f7')\n",
    "epoch = np.arange(0, len(accuracy[0]), 1)\n",
    "plt.plot(epoch, accuracy_mean, c=\"blue\", label=\"Test Set\")\n",
    "plt.fill_between(epoch, accuracy_mean - accuracy_std, accuracy_mean + accuracy_std, color=\"blue\", alpha=0.25)\n",
    "\n",
    "plt.plot(epoch, wdr_org_mean, c=\"green\", label=\"Original Watermark\",\n",
    "         markersize=5)\n",
    "plt.fill_between(epoch, wdr_org_mean - wdr_org_std, wdr_org_mean + wdr_org_std, color=\"green\", alpha=0.25)\n",
    "\n",
    "plt.plot(epoch, wdr_new_mean, c=\"red\", label=\"Attacker Watermark\",\n",
    "         markersize=5)\n",
    "plt.fill_between(epoch, wdr_new_mean - wdr_new_std, wdr_new_mean + wdr_new_std, color=\"red\", alpha=0.25)\n",
    "\n",
    "plt.plot(epoch, 0.47 * np.ones(len(epoch)), c=\"black\", label=\"Treshold\", linestyle='dashed')\n",
    "plt.xlabel(\"Epoch\")\n",
    "plt.ylabel(\"Accuracy\")\n",
    "plt.xlim(0, len(accuracy[0])-1)\n",
    "plt.ylim(0, 1)\n",
    "plt.xticks(np.arange(0, len(accuracy[0]), 10))\n",
    "plt.yticks(np.arange(0, 1.01, 0.2))\n",
    "plt.grid(True)\n",
    "plt.legend()\n",
    "plt.tight_layout()\n",
    "plt.savefig(\n",
    "    path\n",
    "    + \"overwriting.pdf\"\n",
    ")\n",
    "plt.close()"
   ]
  },
  {
   "cell_type": "code",
   "execution_count": 70,
   "id": "0ea4a48f-94ec-485c-8073-d52558a8f756",
   "metadata": {},
   "outputs": [
    {
     "data": {
      "text/plain": [
       "array([0.11 , 0.106, 0.294, 0.352, 0.326, 0.358, 0.38 , 0.39 , 0.426,\n",
       "       0.438, 0.426, 0.446, 0.45 , 0.448, 0.488, 0.472, 0.504, 0.486,\n",
       "       0.484, 0.506, 0.518, 0.54 , 0.52 , 0.502, 0.552, 0.526, 0.55 ,\n",
       "       0.582, 0.58 , 0.562, 0.574, 0.552, 0.592, 0.586, 0.582, 0.602,\n",
       "       0.588, 0.588, 0.626, 0.596, 0.616, 0.63 , 0.644, 0.614, 0.63 ,\n",
       "       0.626, 0.642, 0.628, 0.654, 0.644, 0.67 , 0.608, 0.588, 0.66 ,\n",
       "       0.644, 0.646, 0.668, 0.67 , 0.652, 0.686, 0.682, 0.686, 0.674,\n",
       "       0.662, 0.7  , 0.696, 0.68 , 0.682, 0.708, 0.7  , 0.666, 0.696,\n",
       "       0.698, 0.73 , 0.678, 0.706, 0.694, 0.704, 0.72 , 0.68 , 0.766,\n",
       "       0.732, 0.72 , 0.724, 0.772, 0.746, 0.744, 0.69 , 0.75 , 0.736,\n",
       "       0.754, 0.752, 0.734, 0.746, 0.748, 0.742, 0.806, 0.794, 0.758,\n",
       "       0.728, 0.794])"
      ]
     },
     "execution_count": 70,
     "metadata": {},
     "output_type": "execute_result"
    }
   ],
   "source": [
    "wdr_new_mean"
   ]
  },
  {
   "cell_type": "code",
   "execution_count": 71,
   "id": "6ef6a5f2-bee9-4dc6-9724-3bf4a2b5b716",
   "metadata": {},
   "outputs": [
    {
     "data": {
      "text/plain": [
       "array([[0.09, 0.09, 0.27, 0.36, 0.33, 0.3 , 0.37, 0.35, 0.44, 0.44, 0.38,\n",
       "        0.47, 0.45, 0.51, 0.53, 0.47, 0.51, 0.55, 0.45, 0.5 , 0.49, 0.62,\n",
       "        0.53, 0.5 , 0.56, 0.53, 0.49, 0.61, 0.67, 0.58, 0.6 , 0.57, 0.6 ,\n",
       "        0.58, 0.61, 0.61, 0.55, 0.57, 0.66, 0.66, 0.67, 0.69, 0.68, 0.64,\n",
       "        0.68, 0.59, 0.6 , 0.61, 0.63, 0.61, 0.72, 0.61, 0.6 , 0.71, 0.64,\n",
       "        0.66, 0.7 , 0.68, 0.65, 0.7 , 0.6 , 0.7 , 0.67, 0.62, 0.74, 0.7 ,\n",
       "        0.69, 0.65, 0.71, 0.66, 0.63, 0.65, 0.64, 0.7 , 0.64, 0.68, 0.7 ,\n",
       "        0.73, 0.67, 0.69, 0.73, 0.67, 0.67, 0.75, 0.84, 0.77, 0.75, 0.71,\n",
       "        0.78, 0.71, 0.7 , 0.75, 0.69, 0.7 , 0.76, 0.72, 0.81, 0.79, 0.72,\n",
       "        0.73, 0.84],\n",
       "       [0.11, 0.08, 0.28, 0.38, 0.31, 0.36, 0.44, 0.4 , 0.44, 0.45, 0.47,\n",
       "        0.44, 0.43, 0.36, 0.49, 0.49, 0.46, 0.49, 0.49, 0.53, 0.55, 0.59,\n",
       "        0.58, 0.53, 0.57, 0.5 , 0.48, 0.55, 0.57, 0.51, 0.57, 0.52, 0.62,\n",
       "        0.62, 0.6 , 0.62, 0.58, 0.59, 0.64, 0.55, 0.65, 0.56, 0.67, 0.58,\n",
       "        0.64, 0.64, 0.68, 0.64, 0.62, 0.69, 0.66, 0.63, 0.56, 0.63, 0.63,\n",
       "        0.65, 0.75, 0.67, 0.69, 0.63, 0.64, 0.69, 0.66, 0.62, 0.64, 0.73,\n",
       "        0.64, 0.73, 0.71, 0.78, 0.67, 0.71, 0.73, 0.79, 0.64, 0.75, 0.64,\n",
       "        0.66, 0.71, 0.67, 0.77, 0.76, 0.78, 0.67, 0.71, 0.75, 0.76, 0.65,\n",
       "        0.72, 0.73, 0.72, 0.77, 0.72, 0.77, 0.78, 0.76, 0.85, 0.81, 0.78,\n",
       "        0.79, 0.8 ],\n",
       "       [0.11, 0.12, 0.29, 0.31, 0.27, 0.35, 0.42, 0.41, 0.46, 0.43, 0.46,\n",
       "        0.35, 0.43, 0.46, 0.48, 0.47, 0.53, 0.49, 0.52, 0.54, 0.54, 0.49,\n",
       "        0.51, 0.52, 0.56, 0.51, 0.55, 0.55, 0.64, 0.54, 0.6 , 0.56, 0.52,\n",
       "        0.59, 0.56, 0.6 , 0.51, 0.57, 0.63, 0.57, 0.56, 0.6 , 0.56, 0.59,\n",
       "        0.56, 0.61, 0.68, 0.63, 0.68, 0.65, 0.64, 0.61, 0.6 , 0.63, 0.66,\n",
       "        0.71, 0.67, 0.67, 0.63, 0.71, 0.72, 0.65, 0.73, 0.66, 0.73, 0.67,\n",
       "        0.73, 0.67, 0.67, 0.7 , 0.7 , 0.68, 0.7 , 0.73, 0.75, 0.68, 0.64,\n",
       "        0.69, 0.77, 0.63, 0.83, 0.73, 0.71, 0.65, 0.77, 0.68, 0.72, 0.72,\n",
       "        0.74, 0.74, 0.8 , 0.76, 0.75, 0.74, 0.72, 0.75, 0.76, 0.82, 0.73,\n",
       "        0.73, 0.74],\n",
       "       [0.09, 0.08, 0.3 , 0.35, 0.36, 0.37, 0.34, 0.39, 0.4 , 0.43, 0.4 ,\n",
       "        0.48, 0.46, 0.54, 0.51, 0.5 , 0.5 , 0.45, 0.46, 0.48, 0.47, 0.51,\n",
       "        0.54, 0.47, 0.56, 0.53, 0.63, 0.59, 0.49, 0.62, 0.55, 0.56, 0.61,\n",
       "        0.59, 0.6 , 0.6 , 0.64, 0.63, 0.52, 0.59, 0.59, 0.68, 0.65, 0.66,\n",
       "        0.63, 0.67, 0.67, 0.6 , 0.65, 0.58, 0.6 , 0.65, 0.62, 0.71, 0.63,\n",
       "        0.63, 0.59, 0.68, 0.66, 0.67, 0.72, 0.69, 0.67, 0.7 , 0.71, 0.68,\n",
       "        0.68, 0.69, 0.74, 0.71, 0.71, 0.73, 0.72, 0.67, 0.65, 0.74, 0.74,\n",
       "        0.73, 0.68, 0.71, 0.79, 0.73, 0.78, 0.79, 0.74, 0.74, 0.76, 0.66,\n",
       "        0.79, 0.77, 0.81, 0.77, 0.76, 0.82, 0.77, 0.75, 0.76, 0.76, 0.81,\n",
       "        0.65, 0.77],\n",
       "       [0.15, 0.16, 0.33, 0.36, 0.36, 0.41, 0.33, 0.4 , 0.39, 0.44, 0.42,\n",
       "        0.49, 0.48, 0.37, 0.43, 0.43, 0.52, 0.45, 0.5 , 0.48, 0.54, 0.49,\n",
       "        0.44, 0.49, 0.51, 0.56, 0.6 , 0.61, 0.53, 0.56, 0.55, 0.55, 0.61,\n",
       "        0.55, 0.54, 0.58, 0.66, 0.58, 0.68, 0.61, 0.61, 0.62, 0.66, 0.6 ,\n",
       "        0.64, 0.62, 0.58, 0.66, 0.69, 0.69, 0.73, 0.54, 0.56, 0.62, 0.66,\n",
       "        0.58, 0.63, 0.65, 0.63, 0.72, 0.73, 0.7 , 0.64, 0.71, 0.68, 0.7 ,\n",
       "        0.66, 0.67, 0.71, 0.65, 0.62, 0.71, 0.7 , 0.76, 0.71, 0.68, 0.75,\n",
       "        0.71, 0.77, 0.7 , 0.71, 0.77, 0.66, 0.76, 0.8 , 0.79, 0.73, 0.71,\n",
       "        0.72, 0.73, 0.74, 0.71, 0.75, 0.7 , 0.71, 0.73, 0.85, 0.79, 0.75,\n",
       "        0.74, 0.82]])"
      ]
     },
     "execution_count": 71,
     "metadata": {},
     "output_type": "execute_result"
    }
   ],
   "source": [
    "wdr_new"
   ]
  },
  {
   "cell_type": "code",
   "execution_count": null,
   "id": "254426a5-7737-4342-9bd8-37f1ee98ef7a",
   "metadata": {},
   "outputs": [],
   "source": []
  }
 ],
 "metadata": {
  "kernelspec": {
   "display_name": "Python 3 (ipykernel)",
   "language": "python",
   "name": "python3"
  },
  "language_info": {
   "codemirror_mode": {
    "name": "ipython",
    "version": 3
   },
   "file_extension": ".py",
   "mimetype": "text/x-python",
   "name": "python",
   "nbconvert_exporter": "python",
   "pygments_lexer": "ipython3",
   "version": "3.10.12"
  }
 },
 "nbformat": 4,
 "nbformat_minor": 5
}

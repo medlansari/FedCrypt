{
 "cells": [
  {
   "cell_type": "code",
   "execution_count": 15,
   "id": "initial_id",
   "metadata": {
    "ExecuteTime": {
     "end_time": "2024-06-03T11:20:27.284398Z",
     "start_time": "2024-06-03T11:20:27.281602Z"
    }
   },
   "outputs": [],
   "source": [
    "import torch\n",
    "import os\n",
    "import numpy as np\n",
    "import matplotlib.pyplot as plt\n",
    "# plt.rcParams[\"font.family\"] = \"Times New Roman\""
   ]
  },
  {
   "cell_type": "code",
   "execution_count": 16,
   "id": "2696d972f1b5be77",
   "metadata": {
    "ExecuteTime": {
     "end_time": "2024-05-30T15:04:36.778375Z",
     "start_time": "2024-05-30T15:04:36.776124Z"
    }
   },
   "outputs": [],
   "source": [
    "path = \"outputs_paper/\""
   ]
  },
  {
   "cell_type": "code",
   "execution_count": 3,
   "id": "6976671c5b465275",
   "metadata": {
    "ExecuteTime": {
     "end_time": "2024-05-24T13:47:26.568428Z",
     "start_time": "2024-05-24T13:47:26.565760Z"
    }
   },
   "outputs": [],
   "source": [
    "files = []\n",
    "\n",
    "# Parcours tous les fichiers dans le répertoire\n",
    "for file in os.listdir(path):\n",
    "    # Vérifie si le nom du fichier commence par \"overwriting\"\n",
    "    if file.startswith(\"Overwritting\"):\n",
    "        # Ajoute le nom du fichier à la liste\n",
    "        files.append(file)"
   ]
  },
  {
   "cell_type": "code",
   "execution_count": 4,
   "id": "c628faaae75e5b93",
   "metadata": {
    "ExecuteTime": {
     "end_time": "2024-05-24T13:47:29.425032Z",
     "start_time": "2024-05-24T13:47:29.422096Z"
    }
   },
   "outputs": [],
   "source": [
    "accuracy = np.zeros((5,100))\n",
    "owner = np.zeros((5,100))\n",
    "attacker = np.zeros((5,100))\n",
    "for e, file in enumerate(files):\n",
    "    a = np.load(path + file)\n",
    "    accuracy[e] = a['arr_0']\n",
    "    owner[e] = a['arr_1']\n",
    "    attacker[e] = a['arr_2']"
   ]
  },
  {
   "cell_type": "code",
   "execution_count": 5,
   "id": "bfd6ed40a60f64fa",
   "metadata": {
    "ExecuteTime": {
     "end_time": "2024-05-24T13:47:30.649039Z",
     "start_time": "2024-05-24T13:47:30.646299Z"
    }
   },
   "outputs": [],
   "source": [
    "accuracy_mean = np.mean(accuracy, axis=0)\n",
    "accuracy_std = np.std(accuracy, axis=0)\n",
    "\n",
    "owner_mean = np.mean(owner, axis=0)\n",
    "owner_std = np.std(owner, axis=0)\n",
    "\n",
    "attacker_mean = np.mean(attacker, axis=0)\n",
    "attacker_std = np.std(attacker, axis=0)"
   ]
  },
  {
   "cell_type": "code",
   "execution_count": 6,
   "id": "451c8357e957d56d",
   "metadata": {
    "ExecuteTime": {
     "end_time": "2024-05-24T13:47:31.124211Z",
     "start_time": "2024-05-24T13:47:31.121492Z"
    }
   },
   "outputs": [
    {
     "name": "stdout",
     "output_type": "stream",
     "text": [
      "0.0 0.0\n",
      "0.0 0.0\n",
      "0.0 0.0\n",
      "0.0 0.0\n",
      "0.0 0.0\n"
     ]
    }
   ],
   "source": [
    "a = [0, 24, 49, 74, 99]\n",
    "for i in a:\n",
    "    print(attacker_mean[i], accuracy_std[i])"
   ]
  },
  {
   "cell_type": "code",
   "execution_count": null,
   "id": "4cb2949b59c1d1c0",
   "metadata": {
    "ExecuteTime": {
     "end_time": "2024-04-18T09:08:06.185675Z",
     "start_time": "2024-04-18T09:08:06.183844Z"
    }
   },
   "outputs": [],
   "source": []
  },
  {
   "cell_type": "code",
   "execution_count": 7,
   "id": "65f87fb5d187b8e8",
   "metadata": {
    "ExecuteTime": {
     "end_time": "2024-04-18T09:08:06.498566Z",
     "start_time": "2024-04-18T09:08:06.495967Z"
    }
   },
   "outputs": [],
   "source": [
    "files = []\n",
    "\n",
    "# Parcours tous les fichiers dans le répertoire\n",
    "for file in os.listdir(path):\n",
    "    # Vérifie si le nom du fichier commence par \"overwriting\"\n",
    "    if file.startswith(\"pruning1\"):\n",
    "        # Ajoute le nom du fichier à la liste\n",
    "        files.append(file)"
   ]
  },
  {
   "cell_type": "code",
   "execution_count": 8,
   "id": "42a3cbb5d5d5e642",
   "metadata": {
    "ExecuteTime": {
     "end_time": "2024-04-18T09:08:06.812036Z",
     "start_time": "2024-04-18T09:08:06.808495Z"
    }
   },
   "outputs": [],
   "source": [
    "accuracy = np.zeros((5,11))\n",
    "wdr = np.zeros((5,11))\n",
    "for e, file in enumerate(files):\n",
    "    a = np.load(path + file)\n",
    "    accuracy[e] = a['arr_1']\n",
    "    wdr[e] = a['arr_3']"
   ]
  },
  {
   "cell_type": "code",
   "execution_count": 9,
   "id": "485aff70e5e3510f",
   "metadata": {
    "ExecuteTime": {
     "end_time": "2024-04-18T09:08:07.098500Z",
     "start_time": "2024-04-18T09:08:07.095805Z"
    }
   },
   "outputs": [],
   "source": [
    "accuracy_mean = np.mean(accuracy, axis=0)\n",
    "accuracy_std = np.std(accuracy, axis=0)\n",
    "\n",
    "wdr_mean = np.mean(wdr, axis=0)\n",
    "wdr_std = np.std(wdr, axis=0)"
   ]
  },
  {
   "cell_type": "code",
   "execution_count": 10,
   "id": "fc21c2c7e8a0484f",
   "metadata": {
    "ExecuteTime": {
     "end_time": "2024-04-18T09:08:07.388409Z",
     "start_time": "2024-04-18T09:08:07.386010Z"
    }
   },
   "outputs": [],
   "source": [
    "pruning_rates = np.arange(0, 1.1, 0.1)"
   ]
  },
  {
   "cell_type": "code",
   "execution_count": 11,
   "id": "2ec222f7ccdf613e",
   "metadata": {
    "ExecuteTime": {
     "end_time": "2024-04-18T09:08:07.807198Z",
     "start_time": "2024-04-18T09:08:07.680820Z"
    }
   },
   "outputs": [],
   "source": [
    "plt.figure(figsize=(5, 4), dpi=400)\n",
    "pruning_rates = np.array(pruning_rates)\n",
    "plt.plot(pruning_rates, accuracy_mean, c=\"blue\", label=\"Test\")\n",
    "plt.fill_between(pruning_rates, accuracy_mean-accuracy_std, accuracy_mean+accuracy_std, color=\"blue\", alpha=0.25)\n",
    "plt.plot(pruning_rates, wdr_mean, c=\"black\", label=\"Dynamic Watermark\", marker=\"v\",\n",
    "         markersize=3,\n",
    "         linestyle=\"dashed\")\n",
    "plt.fill_between(pruning_rates, wdr_mean-wdr_std, wdr_mean+wdr_std, color=\"black\" , alpha=0.25)\n",
    "plt.plot(pruning_rates, 0.47*np.ones(len(pruning_rates)), c=\"red\", label=\"$\\delta$\", linestyle='dashed')\n",
    "plt.xlabel(\"Pruning rate\")\n",
    "plt.ylabel(\"Accuracy\")\n",
    "plt.xlim(0, 1)\n",
    "plt.ylim(0 - 0.1, 1 + 0.1)\n",
    "plt.xticks(pruning_rates)\n",
    "plt.yticks(pruning_rates)\n",
    "plt.grid(True)\n",
    "plt.legend()\n",
    "plt.savefig(\n",
    "    path\n",
    "    + \"pruning.pdf\"\n",
    ")\n",
    "plt.close()"
   ]
  },
  {
   "cell_type": "code",
   "execution_count": 113,
   "id": "dcb6b9b6016c0e74",
   "metadata": {
    "ExecuteTime": {
     "end_time": "2024-04-18T09:20:38.151754Z",
     "start_time": "2024-04-18T09:20:38.149235Z"
    }
   },
   "outputs": [
    {
     "data": {
      "text/plain": [
       "0.23819999999999997"
      ]
     },
     "execution_count": 113,
     "metadata": {},
     "output_type": "execute_result"
    }
   ],
   "source": [
    "accuracy_mean[0]-accuracy_mean[8]"
   ]
  },
  {
   "cell_type": "code",
   "execution_count": null,
   "id": "978e736783461220",
   "metadata": {},
   "outputs": [],
   "source": []
  },
  {
   "cell_type": "code",
   "execution_count": 34,
   "id": "e8ed337ff38ea705",
   "metadata": {
    "ExecuteTime": {
     "end_time": "2024-05-30T15:05:02.060612Z",
     "start_time": "2024-05-30T15:05:02.057975Z"
    }
   },
   "outputs": [],
   "source": [
    "files = []\n",
    "\n",
    "# Parcours tous les fichiers dans le répertoire\n",
    "for file in os.listdir(path):\n",
    "    # Vérifie si le nom du fichier commence par \"overwriting\"\n",
    "    if file.startswith(\"outputsfine-tuning80_5_FHE_1716902969\"):\n",
    "        # Ajoute le nom du fichier à la liste\n",
    "        files.append(file)"
   ]
  },
  {
   "cell_type": "code",
   "execution_count": 35,
   "id": "51cf0a3fd814615",
   "metadata": {
    "ExecuteTime": {
     "end_time": "2024-05-30T15:05:02.370260Z",
     "start_time": "2024-05-30T15:05:02.367459Z"
    }
   },
   "outputs": [
    {
     "data": {
      "text/plain": [
       "['outputsfine-tuning80_5_FHE_1716902969.9420294.npz',\n",
       " 'outputsfine-tuning80_5_FHE_1716902969.9420290.npz',\n",
       " 'outputsfine-tuning80_5_FHE_1716902969.9420293.npz',\n",
       " 'outputsfine-tuning80_5_FHE_1716902969.9420292.npz',\n",
       " 'outputsfine-tuning80_5_FHE_1716902969.9420291.npz']"
      ]
     },
     "execution_count": 35,
     "metadata": {},
     "output_type": "execute_result"
    }
   ],
   "source": [
    "files"
   ]
  },
  {
   "cell_type": "code",
   "execution_count": 36,
   "id": "51940fe4c47a9e0e",
   "metadata": {
    "ExecuteTime": {
     "end_time": "2024-05-30T15:05:03.361652Z",
     "start_time": "2024-05-30T15:05:03.358277Z"
    }
   },
   "outputs": [],
   "source": [
    "accuracy = np.zeros((len(files),101))\n",
    "wdr = np.zeros((len(files),101))\n",
    "epoch = np.zeros((len(files)))\n",
    "for e, file in enumerate(files):\n",
    "    a = np.load(path + file)\n",
    "    accuracy[e] = a['arr_0']\n",
    "    wdr[e] = a['arr_1']"
   ]
  },
  {
   "cell_type": "code",
   "execution_count": 37,
   "id": "8e7c14e950f010e3",
   "metadata": {
    "ExecuteTime": {
     "end_time": "2024-05-30T15:05:04.564593Z",
     "start_time": "2024-05-30T15:05:04.561496Z"
    }
   },
   "outputs": [],
   "source": [
    "accuracy_mean = np.mean(accuracy, axis=0)\n",
    "accuracy_std = np.std(accuracy, axis=0)\n",
    "\n",
    "wdr_mean = np.mean(wdr, axis=0)\n",
    "wdr_std = np.std(wdr, axis=0)"
   ]
  },
  {
   "cell_type": "code",
   "execution_count": 38,
   "id": "7a8491998a3bf8ca",
   "metadata": {
    "ExecuteTime": {
     "end_time": "2024-05-30T15:04:46.326597Z",
     "start_time": "2024-05-30T15:04:46.323438Z"
    }
   },
   "outputs": [
    {
     "name": "stdout",
     "output_type": "stream",
     "text": [
      "0.8710000000000001 1.1102230246251565e-16 1.0 0.0\n",
      "0.8613999999999999 0.0048414873747640854 1.0 0.0\n",
      "0.8635999999999999 0.0027276363393971734 1.0 0.0\n",
      "0.8623999999999998 0.0022449944320643666 1.0 0.0\n",
      "0.8602000000000001 0.002638181191654586 1.0 0.0\n"
     ]
    }
   ],
   "source": [
    "print(accuracy_mean[0], accuracy_std[0], wdr_mean[0], wdr_std[0])\n",
    "print(accuracy_mean[6], accuracy_std[6], wdr_mean[6], wdr_std[6])\n",
    "print(accuracy_mean[11], accuracy_std[11], wdr_mean[11], wdr_std[11])\n",
    "print(accuracy_mean[16], accuracy_std[16], wdr_mean[16], wdr_std[16])\n",
    "print(accuracy_mean[21], accuracy_std[21], wdr_mean[21], wdr_std[21])"
   ]
  },
  {
   "cell_type": "code",
   "execution_count": 39,
   "id": "50857300747dbfe2",
   "metadata": {
    "ExecuteTime": {
     "end_time": "2024-05-29T07:28:21.425296Z",
     "start_time": "2024-05-29T07:28:21.343078Z"
    }
   },
   "outputs": [],
   "source": [
    "fig = plt.figure(figsize=(4, 3), dpi=400)\n",
    "plt.axes(facecolor='#f7f7f7')\n",
    "epoch = np.arange(0, 101, 1) \n",
    "plt.plot(epoch, accuracy_mean, c=\"blue\", label=\"Test Set\")\n",
    "plt.fill_between(epoch, accuracy_mean-accuracy_std, accuracy_mean+accuracy_std, color=\"blue\", alpha=0.25)\n",
    "\n",
    "plt.plot(epoch, wdr_mean, c=\"green\", label=\"Watermark\",\n",
    "         markersize=5)\n",
    "plt.fill_between(epoch, wdr_mean-wdr_std, wdr_mean+wdr_std, color=\"green\" , alpha=0.25)\n",
    "\n",
    "plt.plot(epoch, 0.47*np.ones(len(epoch)), c=\"black\", label=\"Threshold\", linestyle='dashed')\n",
    "plt.xlabel(\"Epoch\")\n",
    "plt.ylabel(\"Accuracy\")\n",
    "plt.xlim(0, 100)\n",
    "plt.ylim(0 - 0.1, 1 + 0.1)\n",
    "plt.xticks(np.arange(0, len(accuracy[0]), 20))\n",
    "plt.yticks(np.arange(0,1.01,0.2))\n",
    "plt.grid(True)\n",
    "plt.legend()\n",
    "plt.tight_layout()\n",
    "plt.savefig(\n",
    "    path\n",
    "    + \"fine-tuning.pdf\"\n",
    ")\n",
    "plt.close()"
   ]
  },
  {
   "cell_type": "code",
   "execution_count": null,
   "id": "dbf66c46-745f-4370-a86d-503def3f5e6f",
   "metadata": {},
   "outputs": [],
   "source": []
  },
  {
   "cell_type": "code",
   "execution_count": 30,
   "id": "51533586-4709-4f0d-a7a5-291337def284",
   "metadata": {},
   "outputs": [
    {
     "name": "stdout",
     "output_type": "stream",
     "text": [
      "['save_FHE_overwriting_80_5_FHE_1716902969.942029_1716917894.3950567.npz', 'save_FHE_overwriting_80_5_FHE_1716902969.942029_1716921283.8874762.npz', 'save_FHE_overwriting_80_5_FHE_1716902969.942029_1716922978.526539.npz', 'save_FHE_overwriting_80_5_FHE_1716902969.942029_1716919584.238824.npz', 'save_FHE_overwriting_80_5_FHE_1716902969.942029_1716916195.2306218.npz']\n",
      "5\n"
     ]
    }
   ],
   "source": [
    "files = []\n",
    "\n",
    "# Parcours tous les fichiers dans le répertoire\n",
    "for file in os.listdir(path):\n",
    "    # Vérifie si le nom du fichier commence par \"overwriting\"\n",
    "    if file.startswith(\"save_FHE_overwriting_80_5_FHE_1716902969.942029\"):\n",
    "        # Ajoute le nom du fichier à la liste\n",
    "        files.append(file)\n",
    "print(files)\n",
    "print(len(files))"
   ]
  },
  {
   "cell_type": "code",
   "execution_count": 31,
   "id": "4674e0ec13bd6a0c",
   "metadata": {
    "ExecuteTime": {
     "end_time": "2024-05-30T15:05:08.834396Z",
     "start_time": "2024-05-30T15:05:08.830065Z"
    }
   },
   "outputs": [],
   "source": [
    "accuracy = np.zeros((len(files),101))\n",
    "wdr_org = np.zeros((len(files),101))\n",
    "wdr_new = np.zeros((len(files),101))\n",
    "epoch = np.zeros((len(files)))\n",
    "for e, file in enumerate(files):\n",
    "    a = np.load(path + file)\n",
    "    accuracy[e] = a['arr_0']\n",
    "    wdr_org[e] = a['arr_1']\n",
    "    wdr_new[e] = a['arr_2']"
   ]
  },
  {
   "cell_type": "code",
   "execution_count": 32,
   "id": "76896660-c4bb-41ff-abf9-fa721712ccc6",
   "metadata": {
    "ExecuteTime": {
     "end_time": "2024-05-30T15:05:09.057222Z",
     "start_time": "2024-05-30T15:05:09.054432Z"
    }
   },
   "outputs": [],
   "source": [
    "accuracy_mean = np.mean(accuracy, axis=0)\n",
    "accuracy_std = np.std(accuracy, axis=0)\n",
    "\n",
    "wdr_org_mean = np.mean(wdr_org, axis=0)\n",
    "wdr_org_std = np.std(wdr_org, axis=0)\n",
    "\n",
    "wdr_new_mean = np.mean(wdr_new, axis=0)\n",
    "wdr_new_std = np.std(wdr_new, axis=0)"
   ]
  },
  {
   "cell_type": "code",
   "execution_count": 33,
   "id": "8fc385b6e1a92238",
   "metadata": {
    "ExecuteTime": {
     "end_time": "2024-05-30T15:05:09.459136Z",
     "start_time": "2024-05-30T15:05:09.294665Z"
    }
   },
   "outputs": [],
   "source": [
    "# %%\n",
    "fig = plt.figure(figsize=(4, 3), dpi=400)\n",
    "plt.axes(facecolor='#f7f7f7')\n",
    "epoch = np.arange(0, len(accuracy[0]), 1)\n",
    "plt.plot(epoch, accuracy_mean, c=\"blue\", label=\"Test Set\")\n",
    "plt.fill_between(epoch, accuracy_mean - accuracy_std, accuracy_mean + accuracy_std, color=\"blue\", alpha=0.25)\n",
    "\n",
    "plt.plot(epoch, wdr_org_mean, c=\"green\", label=\"Original Watermark\",\n",
    "         markersize=5)\n",
    "plt.fill_between(epoch, wdr_org_mean - wdr_org_std, wdr_org_mean + wdr_org_std, color=\"green\", alpha=0.25)\n",
    "\n",
    "plt.plot(epoch, wdr_new_mean, c=\"red\", label=\"Attacker Watermark\",\n",
    "         markersize=5)\n",
    "plt.fill_between(epoch, wdr_new_mean - wdr_new_std, wdr_new_mean + wdr_new_std, color=\"red\", alpha=0.25)\n",
    "\n",
    "plt.plot(epoch, 0.47 * np.ones(len(epoch)), c=\"black\", label=\"Threshold\", linestyle='dashed')\n",
    "plt.xlabel(\"Epoch\")\n",
    "plt.ylabel(\"Accuracy\")\n",
    "plt.xlim(0, len(accuracy[0])-1)\n",
    "plt.ylim(0 - 0.1, 1 + 0.1)\n",
    "plt.xticks(np.arange(0, len(accuracy[0]), 20))\n",
    "plt.yticks(np.arange(0, 1.01, 0.2))\n",
    "plt.grid(True)\n",
    "plt.legend()\n",
    "plt.tight_layout()\n",
    "plt.savefig(\n",
    "    path\n",
    "    + \"overwriting.pdf\"\n",
    ")\n",
    "plt.close()"
   ]
  },
  {
   "cell_type": "code",
   "execution_count": 28,
   "id": "0ea4a48f-94ec-485c-8073-d52558a8f756",
   "metadata": {},
   "outputs": [
    {
     "data": {
      "text/plain": [
       "array([0.104, 0.106, 0.186, 0.242, 0.25 , 0.304, 0.292, 0.348, 0.356,\n",
       "       0.362, 0.36 , 0.364, 0.342, 0.412, 0.372, 0.41 , 0.396, 0.398,\n",
       "       0.432, 0.444, 0.452, 0.424, 0.466, 0.454, 0.472, 0.458, 0.476,\n",
       "       0.452, 0.486, 0.448, 0.488, 0.474, 0.5  , 0.506, 0.52 , 0.518,\n",
       "       0.52 , 0.51 , 0.524, 0.53 , 0.54 , 0.552, 0.554, 0.55 , 0.556,\n",
       "       0.534, 0.58 , 0.564, 0.558, 0.572, 0.576, 0.576, 0.592, 0.578,\n",
       "       0.614, 0.594, 0.57 , 0.578, 0.596, 0.62 , 0.614, 0.616, 0.572,\n",
       "       0.622, 0.632, 0.602, 0.602, 0.624, 0.622, 0.644, 0.628, 0.612,\n",
       "       0.63 , 0.632, 0.666, 0.63 , 0.638, 0.638, 0.626, 0.644, 0.646,\n",
       "       0.664, 0.642, 0.656, 0.678, 0.668, 0.68 , 0.696, 0.68 , 0.662,\n",
       "       0.674, 0.694, 0.7  , 0.672, 0.67 , 0.648, 0.698, 0.708, 0.708,\n",
       "       0.682, 0.708])"
      ]
     },
     "execution_count": 28,
     "metadata": {},
     "output_type": "execute_result"
    }
   ],
   "source": [
    "wdr_new_mean"
   ]
  },
  {
   "cell_type": "code",
   "execution_count": 29,
   "id": "6ef6a5f2-bee9-4dc6-9724-3bf4a2b5b716",
   "metadata": {},
   "outputs": [
    {
     "data": {
      "text/plain": [
       "array([[0.1 , 0.1 , 0.2 , 0.24, 0.19, 0.24, 0.23, 0.33, 0.31, 0.37, 0.36,\n",
       "        0.36, 0.35, 0.42, 0.34, 0.42, 0.39, 0.39, 0.42, 0.46, 0.43, 0.46,\n",
       "        0.51, 0.47, 0.49, 0.49, 0.51, 0.49, 0.53, 0.38, 0.46, 0.48, 0.48,\n",
       "        0.48, 0.56, 0.55, 0.45, 0.56, 0.53, 0.59, 0.52, 0.52, 0.47, 0.59,\n",
       "        0.52, 0.57, 0.56, 0.5 , 0.55, 0.57, 0.6 , 0.65, 0.57, 0.58, 0.62,\n",
       "        0.57, 0.54, 0.61, 0.6 , 0.69, 0.6 , 0.65, 0.52, 0.61, 0.64, 0.61,\n",
       "        0.63, 0.66, 0.63, 0.66, 0.6 , 0.62, 0.61, 0.62, 0.66, 0.59, 0.61,\n",
       "        0.63, 0.58, 0.6 , 0.62, 0.62, 0.68, 0.61, 0.69, 0.64, 0.69, 0.7 ,\n",
       "        0.65, 0.68, 0.67, 0.63, 0.67, 0.64, 0.64, 0.59, 0.64, 0.71, 0.67,\n",
       "        0.7 , 0.7 ],\n",
       "       [0.1 , 0.11, 0.15, 0.24, 0.31, 0.38, 0.3 , 0.35, 0.36, 0.36, 0.33,\n",
       "        0.36, 0.37, 0.39, 0.4 , 0.39, 0.4 , 0.44, 0.45, 0.47, 0.44, 0.46,\n",
       "        0.47, 0.46, 0.43, 0.47, 0.48, 0.45, 0.46, 0.44, 0.51, 0.46, 0.46,\n",
       "        0.48, 0.49, 0.59, 0.54, 0.51, 0.52, 0.51, 0.52, 0.61, 0.56, 0.49,\n",
       "        0.57, 0.55, 0.54, 0.61, 0.59, 0.57, 0.59, 0.58, 0.63, 0.6 , 0.65,\n",
       "        0.63, 0.61, 0.56, 0.61, 0.58, 0.61, 0.59, 0.59, 0.58, 0.65, 0.6 ,\n",
       "        0.55, 0.59, 0.63, 0.65, 0.67, 0.59, 0.64, 0.64, 0.67, 0.67, 0.66,\n",
       "        0.64, 0.66, 0.69, 0.65, 0.64, 0.65, 0.7 , 0.65, 0.71, 0.68, 0.69,\n",
       "        0.64, 0.67, 0.7 , 0.7 , 0.72, 0.63, 0.7 , 0.65, 0.71, 0.73, 0.73,\n",
       "        0.64, 0.72],\n",
       "       [0.14, 0.12, 0.17, 0.22, 0.21, 0.27, 0.27, 0.35, 0.33, 0.27, 0.35,\n",
       "        0.38, 0.32, 0.44, 0.37, 0.37, 0.36, 0.33, 0.43, 0.42, 0.44, 0.36,\n",
       "        0.43, 0.42, 0.51, 0.41, 0.5 , 0.39, 0.44, 0.46, 0.49, 0.48, 0.52,\n",
       "        0.54, 0.49, 0.5 , 0.52, 0.51, 0.51, 0.49, 0.53, 0.53, 0.57, 0.58,\n",
       "        0.55, 0.54, 0.65, 0.58, 0.55, 0.57, 0.59, 0.54, 0.62, 0.58, 0.62,\n",
       "        0.61, 0.58, 0.58, 0.63, 0.64, 0.64, 0.63, 0.59, 0.59, 0.6 , 0.6 ,\n",
       "        0.66, 0.63, 0.63, 0.66, 0.6 , 0.62, 0.6 , 0.64, 0.67, 0.61, 0.64,\n",
       "        0.65, 0.66, 0.61, 0.65, 0.67, 0.64, 0.66, 0.68, 0.69, 0.68, 0.68,\n",
       "        0.72, 0.63, 0.64, 0.7 , 0.67, 0.72, 0.7 , 0.68, 0.7 , 0.7 , 0.72,\n",
       "        0.64, 0.72],\n",
       "       [0.1 , 0.11, 0.21, 0.21, 0.24, 0.3 , 0.32, 0.36, 0.39, 0.41, 0.39,\n",
       "        0.36, 0.28, 0.4 , 0.37, 0.44, 0.4 , 0.42, 0.45, 0.4 , 0.47, 0.38,\n",
       "        0.44, 0.46, 0.47, 0.45, 0.46, 0.46, 0.48, 0.47, 0.53, 0.47, 0.52,\n",
       "        0.51, 0.51, 0.42, 0.54, 0.49, 0.55, 0.55, 0.57, 0.55, 0.6 , 0.56,\n",
       "        0.56, 0.52, 0.52, 0.56, 0.52, 0.6 , 0.58, 0.55, 0.54, 0.57, 0.56,\n",
       "        0.55, 0.56, 0.54, 0.57, 0.64, 0.58, 0.6 , 0.56, 0.66, 0.63, 0.6 ,\n",
       "        0.62, 0.6 , 0.6 , 0.59, 0.62, 0.59, 0.65, 0.63, 0.65, 0.64, 0.62,\n",
       "        0.64, 0.65, 0.67, 0.7 , 0.71, 0.62, 0.67, 0.68, 0.66, 0.69, 0.71,\n",
       "        0.69, 0.67, 0.66, 0.7 , 0.67, 0.69, 0.62, 0.71, 0.69, 0.69, 0.68,\n",
       "        0.71, 0.71],\n",
       "       [0.08, 0.09, 0.2 , 0.3 , 0.3 , 0.33, 0.34, 0.35, 0.39, 0.4 , 0.37,\n",
       "        0.36, 0.39, 0.41, 0.38, 0.43, 0.43, 0.41, 0.41, 0.47, 0.48, 0.46,\n",
       "        0.48, 0.46, 0.46, 0.47, 0.43, 0.47, 0.52, 0.49, 0.45, 0.48, 0.52,\n",
       "        0.52, 0.55, 0.53, 0.55, 0.48, 0.51, 0.51, 0.56, 0.55, 0.57, 0.53,\n",
       "        0.58, 0.49, 0.63, 0.57, 0.58, 0.55, 0.52, 0.56, 0.6 , 0.56, 0.62,\n",
       "        0.61, 0.56, 0.6 , 0.57, 0.55, 0.64, 0.61, 0.6 , 0.67, 0.64, 0.6 ,\n",
       "        0.55, 0.64, 0.62, 0.66, 0.65, 0.64, 0.65, 0.63, 0.68, 0.64, 0.66,\n",
       "        0.63, 0.58, 0.65, 0.61, 0.68, 0.62, 0.64, 0.69, 0.64, 0.66, 0.7 ,\n",
       "        0.7 , 0.66, 0.7 , 0.74, 0.77, 0.68, 0.69, 0.61, 0.75, 0.71, 0.74,\n",
       "        0.72, 0.69]])"
      ]
     },
     "execution_count": 29,
     "metadata": {},
     "output_type": "execute_result"
    }
   ],
   "source": [
    "wdr_new"
   ]
  },
  {
   "cell_type": "code",
   "id": "254426a5-7737-4342-9bd8-37f1ee98ef7a",
   "metadata": {
    "ExecuteTime": {
     "end_time": "2024-06-17T08:08:33.055666Z",
     "start_time": "2024-06-17T08:08:33.015612Z"
    }
   },
   "source": "import numpy as np",
   "outputs": [],
   "execution_count": 1
  },
  {
   "metadata": {
    "ExecuteTime": {
     "end_time": "2024-06-17T08:09:36.665920Z",
     "start_time": "2024-06-17T08:09:36.663746Z"
    }
   },
   "cell_type": "code",
   "source": "a = [0.5, 0.5, 0.5, 0.6, 0.4]",
   "id": "c6b9debb2f0b911e",
   "outputs": [],
   "execution_count": 2
  },
  {
   "metadata": {
    "ExecuteTime": {
     "end_time": "2024-06-17T08:09:57.502319Z",
     "start_time": "2024-06-17T08:09:57.499855Z"
    }
   },
   "cell_type": "code",
   "source": [
    "print(np.mean(a))\n",
    "print(np.std(a))"
   ],
   "id": "46cf247aec9a63f9",
   "outputs": [
    {
     "name": "stdout",
     "output_type": "stream",
     "text": [
      "0.5\n",
      "0.06324555320336757\n"
     ]
    }
   ],
   "execution_count": 4
  },
  {
   "metadata": {},
   "cell_type": "code",
   "outputs": [],
   "execution_count": null,
   "source": "",
   "id": "95f679cc168120bf"
  }
 ],
 "metadata": {
  "kernelspec": {
   "display_name": "Python 3 (ipykernel)",
   "language": "python",
   "name": "python3"
  },
  "language_info": {
   "codemirror_mode": {
    "name": "ipython",
    "version": 3
   },
   "file_extension": ".py",
   "mimetype": "text/x-python",
   "name": "python",
   "nbconvert_exporter": "python",
   "pygments_lexer": "ipython3",
   "version": "3.10.12"
  }
 },
 "nbformat": 4,
 "nbformat_minor": 5
}
